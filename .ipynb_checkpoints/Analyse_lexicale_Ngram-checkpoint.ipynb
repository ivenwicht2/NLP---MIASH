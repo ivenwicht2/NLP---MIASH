{
 "cells": [
  {
   "cell_type": "code",
   "execution_count": 1,
   "metadata": {},
   "outputs": [],
   "source": [
    "import pandas as pd\n",
    "from nltk.corpus import stopwords \n",
    "from sklearn.feature_extraction.text import CountVectorizer\n",
    "from sklearn.model_selection import train_test_split\n",
    "from sklearn import metrics\n",
    "from sklearn.naive_bayes import MultinomialNB\n",
    "import math\n",
    "import numpy as np\n",
    "import scipy.stats\n",
    "from nltk.util import ngrams"
   ]
  },
  {
   "cell_type": "markdown",
   "metadata": {},
   "source": [
    "## Importation des données"
   ]
  },
  {
   "cell_type": "code",
   "execution_count": 2,
   "metadata": {
    "scrolled": true
   },
   "outputs": [],
   "source": [
    "df2 = pd.read_csv(\"csv/Questionnaires.csv\",sep=\";\")"
   ]
  },
  {
   "cell_type": "code",
   "execution_count": 3,
   "metadata": {},
   "outputs": [
    {
     "data": {
      "text/html": [
       "<div>\n",
       "<style scoped>\n",
       "    .dataframe tbody tr th:only-of-type {\n",
       "        vertical-align: middle;\n",
       "    }\n",
       "\n",
       "    .dataframe tbody tr th {\n",
       "        vertical-align: top;\n",
       "    }\n",
       "\n",
       "    .dataframe thead th {\n",
       "        text-align: right;\n",
       "    }\n",
       "</style>\n",
       "<table border=\"1\" class=\"dataframe\">\n",
       "  <thead>\n",
       "    <tr style=\"text-align: right;\">\n",
       "      <th></th>\n",
       "      <th>AGE</th>\n",
       "      <th>ID_NUM_TEL</th>\n",
       "      <th>SEXE</th>\n",
       "      <th>NIVEAU_SUPERIEUR_CHOIX</th>\n",
       "      <th>TYPE_TELEPHONE</th>\n",
       "      <th>ABONNEMENT_ILLIMITE</th>\n",
       "      <th>TEMPS_UTILISATION_SMS</th>\n",
       "      <th>ENVOI_SMS_SEMAINE</th>\n",
       "      <th>UTILISATION_T9</th>\n",
       "      <th>DESTINATAIRE_AMIS</th>\n",
       "      <th>DESTINATAIRE_COLLEGUES</th>\n",
       "      <th>DESTINATAIRE_FAMILLE</th>\n",
       "      <th>DESTINATAIRE_COMPAGNON</th>\n",
       "      <th>DUREE_LECTURE</th>\n",
       "    </tr>\n",
       "  </thead>\n",
       "  <tbody>\n",
       "    <tr>\n",
       "      <td>0</td>\n",
       "      <td>16</td>\n",
       "      <td>202</td>\n",
       "      <td>Femme</td>\n",
       "      <td>lycee</td>\n",
       "      <td>classique</td>\n",
       "      <td>non</td>\n",
       "      <td>1 a 3</td>\n",
       "      <td>moins de 5</td>\n",
       "      <td>non</td>\n",
       "      <td>5</td>\n",
       "      <td>3</td>\n",
       "      <td>4</td>\n",
       "      <td>0</td>\n",
       "      <td>4,19</td>\n",
       "    </tr>\n",
       "    <tr>\n",
       "      <td>1</td>\n",
       "      <td>11</td>\n",
       "      <td>401</td>\n",
       "      <td>Homme</td>\n",
       "      <td>college</td>\n",
       "      <td>autre</td>\n",
       "      <td>oui</td>\n",
       "      <td>moins de 1</td>\n",
       "      <td>20 a 50</td>\n",
       "      <td>non</td>\n",
       "      <td>6</td>\n",
       "      <td>0</td>\n",
       "      <td>1</td>\n",
       "      <td>0</td>\n",
       "      <td>5,24</td>\n",
       "    </tr>\n",
       "    <tr>\n",
       "      <td>2</td>\n",
       "      <td>15</td>\n",
       "      <td>290</td>\n",
       "      <td>Homme</td>\n",
       "      <td>college</td>\n",
       "      <td>blackberry</td>\n",
       "      <td>non</td>\n",
       "      <td>1 a 3</td>\n",
       "      <td>plus de 100</td>\n",
       "      <td>oui</td>\n",
       "      <td>6</td>\n",
       "      <td>0</td>\n",
       "      <td>6</td>\n",
       "      <td>6</td>\n",
       "      <td>3,14</td>\n",
       "    </tr>\n",
       "    <tr>\n",
       "      <td>3</td>\n",
       "      <td>12</td>\n",
       "      <td>271</td>\n",
       "      <td>Homme</td>\n",
       "      <td>college</td>\n",
       "      <td>blackberry</td>\n",
       "      <td>oui</td>\n",
       "      <td>1 a 3</td>\n",
       "      <td>plus de 100</td>\n",
       "      <td>non</td>\n",
       "      <td>5</td>\n",
       "      <td>0</td>\n",
       "      <td>2</td>\n",
       "      <td>6</td>\n",
       "      <td>1,05</td>\n",
       "    </tr>\n",
       "    <tr>\n",
       "      <td>4</td>\n",
       "      <td>14</td>\n",
       "      <td>75</td>\n",
       "      <td>Femme</td>\n",
       "      <td>college</td>\n",
       "      <td>blackberry</td>\n",
       "      <td>oui</td>\n",
       "      <td>plus de 5</td>\n",
       "      <td>plus de 100</td>\n",
       "      <td>non</td>\n",
       "      <td>6</td>\n",
       "      <td>0</td>\n",
       "      <td>2</td>\n",
       "      <td>0</td>\n",
       "      <td>6,29</td>\n",
       "    </tr>\n",
       "  </tbody>\n",
       "</table>\n",
       "</div>"
      ],
      "text/plain": [
       "   AGE  ID_NUM_TEL   SEXE NIVEAU_SUPERIEUR_CHOIX TYPE_TELEPHONE  \\\n",
       "0   16         202  Femme                  lycee      classique   \n",
       "1   11         401  Homme                college          autre   \n",
       "2   15         290  Homme                college     blackberry   \n",
       "3   12         271  Homme                college     blackberry   \n",
       "4   14          75  Femme                college     blackberry   \n",
       "\n",
       "  ABONNEMENT_ILLIMITE TEMPS_UTILISATION_SMS ENVOI_SMS_SEMAINE UTILISATION_T9  \\\n",
       "0                 non                 1 a 3        moins de 5            non   \n",
       "1                 oui            moins de 1           20 a 50            non   \n",
       "2                 non                 1 a 3       plus de 100            oui   \n",
       "3                 oui                 1 a 3       plus de 100            non   \n",
       "4                 oui             plus de 5       plus de 100            non   \n",
       "\n",
       "   DESTINATAIRE_AMIS  DESTINATAIRE_COLLEGUES  DESTINATAIRE_FAMILLE  \\\n",
       "0                  5                       3                     4   \n",
       "1                  6                       0                     1   \n",
       "2                  6                       0                     6   \n",
       "3                  5                       0                     2   \n",
       "4                  6                       0                     2   \n",
       "\n",
       "   DESTINATAIRE_COMPAGNON DUREE_LECTURE  \n",
       "0                       0          4,19  \n",
       "1                       0          5,24  \n",
       "2                       6          3,14  \n",
       "3                       6          1,05  \n",
       "4                       0          6,29  "
      ]
     },
     "execution_count": 3,
     "metadata": {},
     "output_type": "execute_result"
    }
   ],
   "source": [
    "df2.head()"
   ]
  },
  {
   "cell_type": "code",
   "execution_count": 4,
   "metadata": {},
   "outputs": [],
   "source": [
    "df = pd.read_csv(\"csv/BDD_sms.csv\",sep=\";\") # on a un pb d'encodage pour certaines lettres --'\n",
    "df = df[df[\"SMS_ANON\"].notna()]"
   ]
  },
  {
   "cell_type": "code",
   "execution_count": 5,
   "metadata": {},
   "outputs": [
    {
     "data": {
      "text/html": [
       "<div>\n",
       "<style scoped>\n",
       "    .dataframe tbody tr th:only-of-type {\n",
       "        vertical-align: middle;\n",
       "    }\n",
       "\n",
       "    .dataframe tbody tr th {\n",
       "        vertical-align: top;\n",
       "    }\n",
       "\n",
       "    .dataframe thead th {\n",
       "        text-align: right;\n",
       "    }\n",
       "</style>\n",
       "<table border=\"1\" class=\"dataframe\">\n",
       "  <thead>\n",
       "    <tr style=\"text-align: right;\">\n",
       "      <th></th>\n",
       "      <th>NUM_SMS</th>\n",
       "      <th>ID_NUM_TEL</th>\n",
       "      <th>SMS_ANON</th>\n",
       "    </tr>\n",
       "  </thead>\n",
       "  <tbody>\n",
       "    <tr>\n",
       "      <td>0</td>\n",
       "      <td>1</td>\n",
       "      <td>477</td>\n",
       "      <td>Hey ca va?\\r\\nAlors cette rentree?\\r\\nVa fallo...</td>\n",
       "    </tr>\n",
       "    <tr>\n",
       "      <td>1</td>\n",
       "      <td>2</td>\n",
       "      <td>477</td>\n",
       "      <td>Ok super merci! Oui j'y comprends rien du tout...</td>\n",
       "    </tr>\n",
       "    <tr>\n",
       "      <td>2</td>\n",
       "      <td>3</td>\n",
       "      <td>477</td>\n",
       "      <td>Coucou !\\r\\nC'est quand la feria de Nimes?\\r\\n...</td>\n",
       "    </tr>\n",
       "    <tr>\n",
       "      <td>3</td>\n",
       "      <td>4</td>\n",
       "      <td>477</td>\n",
       "      <td>Coucou :)\\r\\nOui ca c'est bien passe!\\r\\nAlors...</td>\n",
       "    </tr>\n",
       "    <tr>\n",
       "      <td>4</td>\n",
       "      <td>5</td>\n",
       "      <td>477</td>\n",
       "      <td>On peut se rejoindre quelque part? Tu as cours...</td>\n",
       "    </tr>\n",
       "  </tbody>\n",
       "</table>\n",
       "</div>"
      ],
      "text/plain": [
       "   NUM_SMS  ID_NUM_TEL                                           SMS_ANON\n",
       "0        1         477  Hey ca va?\\r\\nAlors cette rentree?\\r\\nVa fallo...\n",
       "1        2         477  Ok super merci! Oui j'y comprends rien du tout...\n",
       "2        3         477  Coucou !\\r\\nC'est quand la feria de Nimes?\\r\\n...\n",
       "3        4         477  Coucou :)\\r\\nOui ca c'est bien passe!\\r\\nAlors...\n",
       "4        5         477  On peut se rejoindre quelque part? Tu as cours..."
      ]
     },
     "execution_count": 5,
     "metadata": {},
     "output_type": "execute_result"
    }
   ],
   "source": [
    "df.head()"
   ]
  },
  {
   "cell_type": "markdown",
   "metadata": {},
   "source": [
    "## Merge des sms avec les données utilisateurs"
   ]
  },
  {
   "cell_type": "code",
   "execution_count": 6,
   "metadata": {},
   "outputs": [
    {
     "data": {
      "text/plain": [
       "0    Hey ca va?\\r\\nAlors cette rentree?\\r\\nVa fallo...\n",
       "1    Ok super merci! Oui j'y comprends rien du tout...\n",
       "2    Coucou !\\r\\nC'est quand la feria de Nimes?\\r\\n...\n",
       "3    Coucou :)\\r\\nOui ca c'est bien passe!\\r\\nAlors...\n",
       "4    On peut se rejoindre quelque part? Tu as cours...\n",
       "Name: SMS_ANON, dtype: object"
      ]
     },
     "execution_count": 6,
     "metadata": {},
     "output_type": "execute_result"
    }
   ],
   "source": [
    "df = df.merge(df2, how='left', on='ID_NUM_TEL') # On fusionne les deux dataframes par rapport à leur colonnes ID_NUM_TEL\n",
    "corpus_complet = df[\"SMS_ANON\"]\n",
    "corpus_complet.head()"
   ]
  },
  {
   "cell_type": "markdown",
   "metadata": {},
   "source": [
    "## Création des corpus SEXE"
   ]
  },
  {
   "cell_type": "code",
   "execution_count": 7,
   "metadata": {},
   "outputs": [],
   "source": [
    "corpus_sexe = df[[\"SMS_ANON\",\"SEXE\"]] # Selection des bonnes colonnes \n",
    "corpus_femme=corpus_sexe.query(\"SEXE=='Femme'\")[\"SMS_ANON\"]\n",
    "corpus_homme=corpus_sexe.query(\"SEXE=='Homme'\")[\"SMS_ANON\"]\n"
   ]
  },
  {
   "cell_type": "markdown",
   "metadata": {},
   "source": [
    "## Création des corpus AGE"
   ]
  },
  {
   "cell_type": "code",
   "execution_count": 8,
   "metadata": {
    "scrolled": true
   },
   "outputs": [
    {
     "data": {
      "text/plain": [
       "<Figure size 640x480 with 1 Axes>"
      ]
     },
     "metadata": {},
     "output_type": "display_data"
    }
   ],
   "source": [
    "from matplotlib import pyplot as plt\n",
    "age = df[\"AGE\"]\n",
    "plt.hist(age)\n",
    "plt.xlabel(\"Age\")\n",
    "plt.ylabel(\"Effectif\")\n",
    "plt.show()"
   ]
  },
  {
   "cell_type": "code",
   "execution_count": 9,
   "metadata": {},
   "outputs": [],
   "source": [
    "bins= [0,16.5,18.5,20.5,22.5,24.5,100] # Interval d'ages \n",
    "labels = [1,2,3,4,5,6] # Catégorie \n",
    "df[\"Agegroup\"]=pd.cut(df['AGE'], bins=bins, labels=labels, right=False) # On crée une nouvelle colonnes avec les catégories\n"
   ]
  },
  {
   "cell_type": "code",
   "execution_count": 10,
   "metadata": {},
   "outputs": [
    {
     "data": {
      "image/png": "[encoded data removed]",
      "text/plain": [
       "<Figure size 432x432 with 1 Axes>"
      ]
     },
     "metadata": {},
     "output_type": "display_data"
    }
   ],
   "source": [
    "compte = df.groupby([\"Agegroup\"]).count() \n",
    "compte.plot.pie(y='ID_NUM_TEL', figsize=(6, 6)) \n",
    "plt.ylabel(\"\")\n",
    "plt.show()"
   ]
  },
  {
   "cell_type": "code",
   "execution_count": 11,
   "metadata": {},
   "outputs": [],
   "source": [
    "corpus_age = df[[\"SMS_ANON\",\"AGE\",\"Agegroup\"]] # Selection des bonnes colonnes \n",
    "corpus_age1=corpus_age.query('Agegroup==1')[\"SMS_ANON\"]\n",
    "corpus_age2=corpus_age.query('Agegroup==2')[\"SMS_ANON\"]\n",
    "corpus_age3=corpus_age.query('Agegroup==3')[\"SMS_ANON\"]\n",
    "corpus_age4=corpus_age.query('Agegroup==4')[\"SMS_ANON\"]\n",
    "corpus_age5=corpus_age.query('Agegroup==5')[\"SMS_ANON\"]\n",
    "corpus_age6=corpus_age.query('Agegroup==6')[\"SMS_ANON\"]"
   ]
  },
  {
   "cell_type": "markdown",
   "metadata": {},
   "source": [
    "## On crée le corpus 'TELEPHONE'"
   ]
  },
  {
   "cell_type": "code",
   "execution_count": 12,
   "metadata": {},
   "outputs": [],
   "source": [
    "corpus_telephone = df[[\"SMS_ANON\",\"TYPE_TELEPHONE\"]]  # on prend le type de téléphone et le sms de la personne \n",
    "corpus_tel1=corpus_telephone.query(\"TYPE_TELEPHONE =='blackberry'\")[\"SMS_ANON\"]\n",
    "corpus_tel2=corpus_telephone.query(\"TYPE_TELEPHONE=='iphone'\")[\"SMS_ANON\"]\n",
    "corpus_tel3=corpus_telephone.query(\"TYPE_TELEPHONE=='classique'\")[\"SMS_ANON\"]\n",
    "corpus_tel4=corpus_telephone.query(\"TYPE_TELEPHONE=='autre'\")[\"SMS_ANON\"]"
   ]
  },
  {
   "cell_type": "markdown",
   "metadata": {},
   "source": [
    "# N-grammes 1 mot"
   ]
  },
  {
   "cell_type": "code",
   "execution_count": 13,
   "metadata": {},
   "outputs": [],
   "source": [
    "#corpus_complet\n",
    "dictionnaire = dict()\n",
    "for ligne in corpus_complet:\n",
    "        twograms = ngrams(ligne.split(), 1)\n",
    "        for grams in twograms:\n",
    "            valeur = \" \".join(grams)\n",
    "            if valeur in dictionnaire :\n",
    "                dictionnaire[valeur] += 1\n",
    "            else :\n",
    "                dictionnaire[valeur] = 1\n",
    "\n",
    "complet1=pd.DataFrame(dictionnaire,index=[0])\n",
    "complet1 = complet1.T\n",
    "complet1['index'] = complet1.index\n"
   ]
  },
  {
   "cell_type": "code",
   "execution_count": 14,
   "metadata": {},
   "outputs": [],
   "source": [
    "#corpus_femme\n",
    "dictionnaire2 = dict()\n",
    "for ligne in corpus_femme:\n",
    "        twograms = ngrams(ligne.split(), 1)\n",
    "        for grams in twograms:\n",
    "            valeur = \" \".join(grams)\n",
    "            if valeur in dictionnaire2 :\n",
    "                dictionnaire2[valeur] += 1\n",
    "            else :\n",
    "                dictionnaire2[valeur] = 1\n",
    "\n",
    "Femme_1=pd.DataFrame(dictionnaire2,index=[0])\n",
    "Femme_1 = Femme_1.T\n",
    "Femme_1['index'] = Femme_1.index\n"
   ]
  },
  {
   "cell_type": "code",
   "execution_count": 15,
   "metadata": {},
   "outputs": [],
   "source": [
    "#corpus_homme\n",
    "dictionnaire = dict()\n",
    "for ligne in corpus_homme:\n",
    "        twograms = ngrams(ligne.split(), 1)\n",
    "        for grams in twograms:\n",
    "            valeur = \" \".join(grams)\n",
    "            if valeur in dictionnaire :\n",
    "                dictionnaire[valeur] += 1\n",
    "            else :\n",
    "                dictionnaire[valeur] = 1\n",
    "\n",
    "Homme_1=pd.DataFrame(dictionnaire,index=[0])\n",
    "Homme_1 = Homme_1.T\n",
    "Homme_1['index'] = Homme_1.index"
   ]
  },
  {
   "cell_type": "code",
   "execution_count": 16,
   "metadata": {},
   "outputs": [],
   "source": [
    "#corpus_age1\n",
    "dictionnaire = dict()\n",
    "for ligne in corpus_age1:\n",
    "        twograms = ngrams(ligne.split(), 1)\n",
    "        for grams in twograms:\n",
    "            valeur = \" \".join(grams)\n",
    "            if valeur in dictionnaire :\n",
    "                dictionnaire[valeur] += 1\n",
    "            else :\n",
    "                dictionnaire[valeur] = 1\n",
    "\n",
    "Age1_1=pd.DataFrame(dictionnaire,index=[0])\n",
    "Age1_1 = Age1_1.T\n",
    "Age1_1['index'] = Age1_1.index\n"
   ]
  },
  {
   "cell_type": "code",
   "execution_count": 17,
   "metadata": {},
   "outputs": [],
   "source": [
    "#corpus_age2\n",
    "dictionnaire = dict()\n",
    "for ligne in corpus_age2:\n",
    "        twograms = ngrams(ligne.split(), 1)\n",
    "        for grams in twograms:\n",
    "            valeur = \" \".join(grams)\n",
    "            if valeur in dictionnaire :\n",
    "                dictionnaire[valeur] += 1\n",
    "            else :\n",
    "                dictionnaire[valeur] = 1\n",
    "\n",
    "Age2_1=pd.DataFrame(dictionnaire,index=[0])\n",
    "Age2_1 = Age2_1.T\n",
    "Age2_1['index'] = Age2_1.index"
   ]
  },
  {
   "cell_type": "code",
   "execution_count": 18,
   "metadata": {},
   "outputs": [],
   "source": [
    "#corpus_age3\n",
    "dictionnaire = dict()\n",
    "for ligne in corpus_age3:\n",
    "        twograms = ngrams(ligne.split(), 1)\n",
    "        for grams in twograms:\n",
    "            valeur = \" \".join(grams)\n",
    "            if valeur in dictionnaire :\n",
    "                dictionnaire[valeur] += 1\n",
    "            else :\n",
    "                dictionnaire[valeur] = 1\n",
    "\n",
    "Age3_1=pd.DataFrame(dictionnaire,index=[0])\n",
    "Age3_1 = Age3_1.T\n",
    "Age3_1['index'] = Age3_1.index"
   ]
  },
  {
   "cell_type": "code",
   "execution_count": 19,
   "metadata": {},
   "outputs": [],
   "source": [
    "#corpus_age4\n",
    "dictionnaire = dict()\n",
    "for ligne in corpus_age4:\n",
    "        twograms = ngrams(ligne.split(), 1)\n",
    "        for grams in twograms:\n",
    "            valeur = \" \".join(grams)\n",
    "            if valeur in dictionnaire :\n",
    "                dictionnaire[valeur] += 1\n",
    "            else :\n",
    "                dictionnaire[valeur] = 1\n",
    "\n",
    "Age4_1=pd.DataFrame(dictionnaire,index=[0])\n",
    "Age4_1 = Age4_1.T\n",
    "Age4_1['index'] = Age4_1.index"
   ]
  },
  {
   "cell_type": "code",
   "execution_count": 20,
   "metadata": {},
   "outputs": [],
   "source": [
    "#corpus_age5\n",
    "dictionnaire = dict()\n",
    "for ligne in corpus_age5:\n",
    "        twograms = ngrams(ligne.split(), 1)\n",
    "        for grams in twograms:\n",
    "            valeur = \" \".join(grams)\n",
    "            if valeur in dictionnaire :\n",
    "                dictionnaire[valeur] += 1\n",
    "            else :\n",
    "                dictionnaire[valeur] = 1\n",
    "\n",
    "Age5_1=pd.DataFrame(dictionnaire,index=[0])\n",
    "Age5_1 = Age5_1.T\n",
    "Age5_1['index'] = Age5_1.index"
   ]
  },
  {
   "cell_type": "code",
   "execution_count": 21,
   "metadata": {},
   "outputs": [],
   "source": [
    "#corpus_age6\n",
    "dictionnaire = dict()\n",
    "for ligne in corpus_age6:\n",
    "        twograms = ngrams(ligne.split(), 1)\n",
    "        for grams in twograms:\n",
    "            valeur = \" \".join(grams)\n",
    "            if valeur in dictionnaire :\n",
    "                dictionnaire[valeur] += 1\n",
    "            else :\n",
    "                dictionnaire[valeur] = 1\n",
    "\n",
    "Age6_1=pd.DataFrame(dictionnaire,index=[0])\n",
    "Age6_1 = Age6_1.T\n",
    "Age6_1['index'] = Age6_1.index"
   ]
  },
  {
   "cell_type": "code",
   "execution_count": 22,
   "metadata": {},
   "outputs": [],
   "source": [
    "#corpus_tel1\n",
    "dictionnaire = dict()\n",
    "for ligne in corpus_tel1:\n",
    "        twograms = ngrams(ligne.split(), 1)\n",
    "        for grams in twograms:\n",
    "            valeur = \" \".join(grams)\n",
    "            if valeur in dictionnaire :\n",
    "                dictionnaire[valeur] += 1\n",
    "            else :\n",
    "                dictionnaire[valeur] = 1\n",
    "\n",
    "Tel1_1=pd.DataFrame(dictionnaire,index=[0])\n",
    "Tel1_1 = Tel1_1.T\n",
    "Tel1_1['index'] = Tel1_1.index"
   ]
  },
  {
   "cell_type": "code",
   "execution_count": 23,
   "metadata": {},
   "outputs": [],
   "source": [
    "#corpus_tel2\n",
    "dictionnaire = dict()\n",
    "for ligne in corpus_tel2:\n",
    "        twograms = ngrams(ligne.split(), 1)\n",
    "        for grams in twograms:\n",
    "            valeur = \" \".join(grams)\n",
    "            if valeur in dictionnaire :\n",
    "                dictionnaire[valeur] += 1\n",
    "            else :\n",
    "                dictionnaire[valeur] = 1\n",
    "\n",
    "Tel2_1=pd.DataFrame(dictionnaire,index=[0])\n",
    "Tel2_1 = Tel2_1.T\n",
    "Tel2_1['index'] = Tel2_1.index"
   ]
  },
  {
   "cell_type": "code",
   "execution_count": 24,
   "metadata": {},
   "outputs": [],
   "source": [
    "#corpus_tel3\n",
    "dictionnaire = dict()\n",
    "for ligne in corpus_tel3:\n",
    "        twograms = ngrams(ligne.split(), 1)\n",
    "        for grams in twograms:\n",
    "            valeur = \" \".join(grams)\n",
    "            if valeur in dictionnaire :\n",
    "                dictionnaire[valeur] += 1\n",
    "            else :\n",
    "                dictionnaire[valeur] = 1\n",
    "\n",
    "Tel3_1=pd.DataFrame(dictionnaire,index=[0])\n",
    "Tel3_1 = Tel3_1.T\n",
    "Tel3_1['index'] = Tel3_1.index"
   ]
  },
  {
   "cell_type": "code",
   "execution_count": 25,
   "metadata": {},
   "outputs": [],
   "source": [
    "#corpus_tel4\n",
    "dictionnaire = dict()\n",
    "for ligne in corpus_tel4:\n",
    "        twograms = ngrams(ligne.split(), 1)\n",
    "        for grams in twograms:\n",
    "            valeur = \" \".join(grams)\n",
    "            if valeur in dictionnaire :\n",
    "                dictionnaire[valeur] += 1\n",
    "            else :\n",
    "                dictionnaire[valeur] = 1\n",
    "\n",
    "Tel4_1=pd.DataFrame(dictionnaire,index=[0])\n",
    "Tel4_1 = Tel4_1.T\n",
    "Tel4_1['index'] = Tel4_1.index"
   ]
  },
  {
   "cell_type": "markdown",
   "metadata": {},
   "source": [
    "### Création d'un dataFrame pour l'ensemble des sous-corpus"
   ]
  },
  {
   "cell_type": "code",
   "execution_count": 26,
   "metadata": {},
   "outputs": [],
   "source": [
    "corp_lex_1tok=complet1.merge(Femme_1, how='left', on='index')\n",
    "corp_lex_1tok=corp_lex_1tok.merge(Homme_1, how='left', on='index')\n",
    "corp_lex_1tok=corp_lex_1tok.merge(Age1_1, how='left', on='index')\n",
    "corp_lex_1tok=corp_lex_1tok.merge(Age2_1, how='left', on='index')\n",
    "corp_lex_1tok=corp_lex_1tok.merge(Age3_1, how='left', on='index')\n",
    "corp_lex_1tok=corp_lex_1tok.merge(Age4_1, how='left', on='index')\n",
    "corp_lex_1tok=corp_lex_1tok.merge(Age5_1, how='left', on='index')\n",
    "corp_lex_1tok=corp_lex_1tok.merge(Age6_1, how='left', on='index')\n",
    "corp_lex_1tok=corp_lex_1tok.merge(Tel1_1, how='left', on='index')\n",
    "corp_lex_1tok=corp_lex_1tok.merge(Tel2_1, how='left', on='index')\n",
    "corp_lex_1tok=corp_lex_1tok.merge(Tel3_1, how='left', on='index')\n",
    "corp_lex_1tok=corp_lex_1tok.merge(Tel4_1, how='left', on='index')\n",
    "\n",
    "corp_lex_1tok.fillna(0, inplace=True)"
   ]
  },
  {
   "cell_type": "code",
   "execution_count": 27,
   "metadata": {},
   "outputs": [
    {
     "data": {
      "text/html": [
       "<div>\n",
       "<style scoped>\n",
       "    .dataframe tbody tr th:only-of-type {\n",
       "        vertical-align: middle;\n",
       "    }\n",
       "\n",
       "    .dataframe tbody tr th {\n",
       "        vertical-align: top;\n",
       "    }\n",
       "\n",
       "    .dataframe thead th {\n",
       "        text-align: right;\n",
       "    }\n",
       "</style>\n",
       "<table border=\"1\" class=\"dataframe\">\n",
       "  <thead>\n",
       "    <tr style=\"text-align: right;\">\n",
       "      <th></th>\n",
       "      <th>0_x</th>\n",
       "      <th>index</th>\n",
       "      <th>0_y</th>\n",
       "      <th>0_x</th>\n",
       "      <th>0_y</th>\n",
       "      <th>0_x</th>\n",
       "      <th>0_y</th>\n",
       "      <th>0_x</th>\n",
       "      <th>0_y</th>\n",
       "      <th>0_x</th>\n",
       "      <th>0_y</th>\n",
       "      <th>0_x</th>\n",
       "      <th>0_y</th>\n",
       "      <th>0</th>\n",
       "    </tr>\n",
       "  </thead>\n",
       "  <tbody>\n",
       "    <tr>\n",
       "      <td>0</td>\n",
       "      <td>320</td>\n",
       "      <td>Hey</td>\n",
       "      <td>219.0</td>\n",
       "      <td>101.0</td>\n",
       "      <td>21.0</td>\n",
       "      <td>135.0</td>\n",
       "      <td>29.0</td>\n",
       "      <td>39.0</td>\n",
       "      <td>78.0</td>\n",
       "      <td>18.0</td>\n",
       "      <td>55.0</td>\n",
       "      <td>147.0</td>\n",
       "      <td>116.0</td>\n",
       "      <td>2.0</td>\n",
       "    </tr>\n",
       "    <tr>\n",
       "      <td>1</td>\n",
       "      <td>3932</td>\n",
       "      <td>ca</td>\n",
       "      <td>3271.0</td>\n",
       "      <td>661.0</td>\n",
       "      <td>356.0</td>\n",
       "      <td>1199.0</td>\n",
       "      <td>457.0</td>\n",
       "      <td>515.0</td>\n",
       "      <td>824.0</td>\n",
       "      <td>581.0</td>\n",
       "      <td>1290.0</td>\n",
       "      <td>1030.0</td>\n",
       "      <td>1479.0</td>\n",
       "      <td>133.0</td>\n",
       "    </tr>\n",
       "    <tr>\n",
       "      <td>2</td>\n",
       "      <td>408</td>\n",
       "      <td>va?</td>\n",
       "      <td>348.0</td>\n",
       "      <td>60.0</td>\n",
       "      <td>41.0</td>\n",
       "      <td>132.0</td>\n",
       "      <td>48.0</td>\n",
       "      <td>71.0</td>\n",
       "      <td>40.0</td>\n",
       "      <td>76.0</td>\n",
       "      <td>39.0</td>\n",
       "      <td>217.0</td>\n",
       "      <td>131.0</td>\n",
       "      <td>21.0</td>\n",
       "    </tr>\n",
       "    <tr>\n",
       "      <td>3</td>\n",
       "      <td>924</td>\n",
       "      <td>Alors</td>\n",
       "      <td>739.0</td>\n",
       "      <td>185.0</td>\n",
       "      <td>127.0</td>\n",
       "      <td>201.0</td>\n",
       "      <td>89.0</td>\n",
       "      <td>144.0</td>\n",
       "      <td>176.0</td>\n",
       "      <td>187.0</td>\n",
       "      <td>177.0</td>\n",
       "      <td>371.0</td>\n",
       "      <td>355.0</td>\n",
       "      <td>21.0</td>\n",
       "    </tr>\n",
       "    <tr>\n",
       "      <td>4</td>\n",
       "      <td>914</td>\n",
       "      <td>cette</td>\n",
       "      <td>701.0</td>\n",
       "      <td>213.0</td>\n",
       "      <td>129.0</td>\n",
       "      <td>141.0</td>\n",
       "      <td>66.0</td>\n",
       "      <td>197.0</td>\n",
       "      <td>165.0</td>\n",
       "      <td>216.0</td>\n",
       "      <td>197.0</td>\n",
       "      <td>368.0</td>\n",
       "      <td>307.0</td>\n",
       "      <td>42.0</td>\n",
       "    </tr>\n",
       "  </tbody>\n",
       "</table>\n",
       "</div>"
      ],
      "text/plain": [
       "    0_x  index     0_y    0_x    0_y     0_x    0_y    0_x    0_y    0_x  \\\n",
       "0   320    Hey   219.0  101.0   21.0   135.0   29.0   39.0   78.0   18.0   \n",
       "1  3932     ca  3271.0  661.0  356.0  1199.0  457.0  515.0  824.0  581.0   \n",
       "2   408    va?   348.0   60.0   41.0   132.0   48.0   71.0   40.0   76.0   \n",
       "3   924  Alors   739.0  185.0  127.0   201.0   89.0  144.0  176.0  187.0   \n",
       "4   914  cette   701.0  213.0  129.0   141.0   66.0  197.0  165.0  216.0   \n",
       "\n",
       "      0_y     0_x     0_y      0  \n",
       "0    55.0   147.0   116.0    2.0  \n",
       "1  1290.0  1030.0  1479.0  133.0  \n",
       "2    39.0   217.0   131.0   21.0  \n",
       "3   177.0   371.0   355.0   21.0  \n",
       "4   197.0   368.0   307.0   42.0  "
      ]
     },
     "execution_count": 27,
     "metadata": {},
     "output_type": "execute_result"
    }
   ],
   "source": [
    "corp_lex_1tok.head()"
   ]
  },
  {
   "cell_type": "code",
   "execution_count": 28,
   "metadata": {},
   "outputs": [],
   "source": [
    "corp_lex_1tok = corp_lex_1tok.rename(columns={ corp_lex_1tok.columns[0]: \"TOUS\",\n",
    "                                              corp_lex_1tok.columns[2]: \"Femme\",\n",
    "                                              corp_lex_1tok.columns[3]: \"Homme\"\n",
    "                                              ,corp_lex_1tok.columns[4]: \"Age1\"\n",
    "                                       ,corp_lex_1tok.columns[5]: \"Age2\",\n",
    "                                              corp_lex_1tok.columns[6]: \"Age3\"\n",
    "                                       ,corp_lex_1tok.columns[7]: \"Age4\",\n",
    "                                              corp_lex_1tok.columns[8]: \"Age5\"\n",
    "                                       ,corp_lex_1tok.columns[9]: \"Age6\",\n",
    "                                        corp_lex_1tok.columns[10]: \"Tel1\",\n",
    "                                        corp_lex_1tok.columns[11]: \"Tel2\",\n",
    "                                        corp_lex_1tok.columns[12]: \"Tel3\",\n",
    "                                        corp_lex_1tok.columns[13]: \"Tel4\"}) # renommage des colonnes"
   ]
  },
  {
   "cell_type": "code",
   "execution_count": 29,
   "metadata": {},
   "outputs": [
    {
     "data": {
      "text/html": [
       "<div>\n",
       "<style scoped>\n",
       "    .dataframe tbody tr th:only-of-type {\n",
       "        vertical-align: middle;\n",
       "    }\n",
       "\n",
       "    .dataframe tbody tr th {\n",
       "        vertical-align: top;\n",
       "    }\n",
       "\n",
       "    .dataframe thead th {\n",
       "        text-align: right;\n",
       "    }\n",
       "</style>\n",
       "<table border=\"1\" class=\"dataframe\">\n",
       "  <thead>\n",
       "    <tr style=\"text-align: right;\">\n",
       "      <th></th>\n",
       "      <th>Tel2</th>\n",
       "      <th>index</th>\n",
       "      <th>Tel3</th>\n",
       "      <th>Tel2</th>\n",
       "      <th>Tel3</th>\n",
       "      <th>Tel2</th>\n",
       "      <th>Tel3</th>\n",
       "      <th>Tel2</th>\n",
       "      <th>Tel3</th>\n",
       "      <th>Tel2</th>\n",
       "      <th>Tel3</th>\n",
       "      <th>Tel2</th>\n",
       "      <th>Tel3</th>\n",
       "      <th>Tel4</th>\n",
       "    </tr>\n",
       "  </thead>\n",
       "  <tbody>\n",
       "    <tr>\n",
       "      <td>0</td>\n",
       "      <td>320</td>\n",
       "      <td>Hey</td>\n",
       "      <td>219.0</td>\n",
       "      <td>101.0</td>\n",
       "      <td>21.0</td>\n",
       "      <td>135.0</td>\n",
       "      <td>29.0</td>\n",
       "      <td>39.0</td>\n",
       "      <td>78.0</td>\n",
       "      <td>18.0</td>\n",
       "      <td>55.0</td>\n",
       "      <td>147.0</td>\n",
       "      <td>116.0</td>\n",
       "      <td>2.0</td>\n",
       "    </tr>\n",
       "    <tr>\n",
       "      <td>1</td>\n",
       "      <td>3932</td>\n",
       "      <td>ca</td>\n",
       "      <td>3271.0</td>\n",
       "      <td>661.0</td>\n",
       "      <td>356.0</td>\n",
       "      <td>1199.0</td>\n",
       "      <td>457.0</td>\n",
       "      <td>515.0</td>\n",
       "      <td>824.0</td>\n",
       "      <td>581.0</td>\n",
       "      <td>1290.0</td>\n",
       "      <td>1030.0</td>\n",
       "      <td>1479.0</td>\n",
       "      <td>133.0</td>\n",
       "    </tr>\n",
       "    <tr>\n",
       "      <td>2</td>\n",
       "      <td>408</td>\n",
       "      <td>va?</td>\n",
       "      <td>348.0</td>\n",
       "      <td>60.0</td>\n",
       "      <td>41.0</td>\n",
       "      <td>132.0</td>\n",
       "      <td>48.0</td>\n",
       "      <td>71.0</td>\n",
       "      <td>40.0</td>\n",
       "      <td>76.0</td>\n",
       "      <td>39.0</td>\n",
       "      <td>217.0</td>\n",
       "      <td>131.0</td>\n",
       "      <td>21.0</td>\n",
       "    </tr>\n",
       "    <tr>\n",
       "      <td>3</td>\n",
       "      <td>924</td>\n",
       "      <td>Alors</td>\n",
       "      <td>739.0</td>\n",
       "      <td>185.0</td>\n",
       "      <td>127.0</td>\n",
       "      <td>201.0</td>\n",
       "      <td>89.0</td>\n",
       "      <td>144.0</td>\n",
       "      <td>176.0</td>\n",
       "      <td>187.0</td>\n",
       "      <td>177.0</td>\n",
       "      <td>371.0</td>\n",
       "      <td>355.0</td>\n",
       "      <td>21.0</td>\n",
       "    </tr>\n",
       "    <tr>\n",
       "      <td>4</td>\n",
       "      <td>914</td>\n",
       "      <td>cette</td>\n",
       "      <td>701.0</td>\n",
       "      <td>213.0</td>\n",
       "      <td>129.0</td>\n",
       "      <td>141.0</td>\n",
       "      <td>66.0</td>\n",
       "      <td>197.0</td>\n",
       "      <td>165.0</td>\n",
       "      <td>216.0</td>\n",
       "      <td>197.0</td>\n",
       "      <td>368.0</td>\n",
       "      <td>307.0</td>\n",
       "      <td>42.0</td>\n",
       "    </tr>\n",
       "  </tbody>\n",
       "</table>\n",
       "</div>"
      ],
      "text/plain": [
       "   Tel2  index    Tel3   Tel2   Tel3    Tel2   Tel3   Tel2   Tel3   Tel2  \\\n",
       "0   320    Hey   219.0  101.0   21.0   135.0   29.0   39.0   78.0   18.0   \n",
       "1  3932     ca  3271.0  661.0  356.0  1199.0  457.0  515.0  824.0  581.0   \n",
       "2   408    va?   348.0   60.0   41.0   132.0   48.0   71.0   40.0   76.0   \n",
       "3   924  Alors   739.0  185.0  127.0   201.0   89.0  144.0  176.0  187.0   \n",
       "4   914  cette   701.0  213.0  129.0   141.0   66.0  197.0  165.0  216.0   \n",
       "\n",
       "     Tel3    Tel2    Tel3   Tel4  \n",
       "0    55.0   147.0   116.0    2.0  \n",
       "1  1290.0  1030.0  1479.0  133.0  \n",
       "2    39.0   217.0   131.0   21.0  \n",
       "3   177.0   371.0   355.0   21.0  \n",
       "4   197.0   368.0   307.0   42.0  "
      ]
     },
     "execution_count": 29,
     "metadata": {},
     "output_type": "execute_result"
    }
   ],
   "source": [
    "corp_lex_1tok.head()"
   ]
  },
  {
   "cell_type": "markdown",
   "metadata": {},
   "source": [
    "### Calcul TF"
   ]
  },
  {
   "cell_type": "code",
   "execution_count": null,
   "metadata": {},
   "outputs": [],
   "source": [
    "totaux=corp_lex_1tok.sum(axis=0)\n"
   ]
  },
  {
   "cell_type": "code",
   "execution_count": null,
   "metadata": {
    "scrolled": true
   },
   "outputs": [],
   "source": [
    "corp_lex_1tok[\"TF_fem\"] = corp_lex_1tok[\"Femme\"] / totaux['Femme'] * 100\n",
    "corp_lex_1tok[\"TF_hom\"] = corp_lex_1tok[\"Homme\"] / totaux['Homme'] * 100\n",
    "corp_lex_1tok[\"TF_age1\"] = corp_lex_1tok[\"Age1\"] / totaux['Age1'] * 100\n",
    "corp_lex_1tok[\"TF_age2\"] = corp_lex_1tok[\"Age2\"] / totaux['Age2'] * 100\n",
    "corp_lex_1tok[\"TF_age3\"] = corp_lex_1tok[\"Age3\"] / totaux['Age3'] * 100\n",
    "corp_lex_1tok[\"TF_age4\"] = corp_lex_1tok[\"Age4\"] / totaux['Age4'] * 100\n",
    "corp_lex_1tok[\"TF_age5\"] = corp_lex_1tok[\"Age5\"] / totaux['Age5'] * 100\n",
    "corp_lex_1tok[\"TF_age6\"] = corp_lex_1tok[\"Age6\"] / totaux['Age6'] * 100\n",
    "corp_lex_1tok[\"TF_tel1\"] = corp_lex_1tok[\"Tel1\"] / totaux['Tel1'] * 100\n",
    "corp_lex_1tok[\"TF_tel2\"] = corp_lex_1tok[\"Tel2\"] / totaux['Tel2'] * 100\n",
    "corp_lex_1tok[\"TF_tel3\"] = corp_lex_1tok[\"Tel3\"] / totaux['Tel3'] * 100\n",
    "corp_lex_1tok[\"TF_tel4\"] = corp_lex_1tok[\"Tel4\"] / totaux['Tel4'] * 100\n",
    "\n",
    "corp_lex_1tok.head()"
   ]
  },
  {
   "cell_type": "markdown",
   "metadata": {},
   "source": [
    "### Calcul IDF"
   ]
  },
  {
   "cell_type": "code",
   "execution_count": null,
   "metadata": {},
   "outputs": [],
   "source": [
    "corpus=12\n",
    "SC_Sexe=2\n",
    "SC_Age=6\n",
    "SC_Tel=4"
   ]
  },
  {
   "cell_type": "code",
   "execution_count": null,
   "metadata": {},
   "outputs": [],
   "source": [
    "A_age=[]\n",
    "for tok in range(0,len(corp_lex_1tok)) :\n",
    "\n",
    "    nb=0\n",
    "    for corp in range(0,SC_Age) :\n",
    "        if corp_lex_1tok.iloc[tok,2:8][corp]>0:\n",
    "            nb=nb+1\n",
    "    A_age.append(nb)\n",
    "\n",
    "corp_lex_1tok[\"nb_in_corpAge\"]=A_age\n"
   ]
  },
  {
   "cell_type": "code",
   "execution_count": null,
   "metadata": {},
   "outputs": [],
   "source": [
    "A_sexe=[]\n",
    "for tok in range(0,len(corp_lex_1tok)) :\n",
    "\n",
    "    nb=0\n",
    "    for corp in range(0,SC_Sexe) :\n",
    "        if corp_lex_1tok.iloc[tok,:2][corp]>0:\n",
    "            nb=nb+1\n",
    "    A_sexe.append(nb)\n",
    "\n",
    "corp_lex_1tok[\"nb_in_corpSexe\"]=A_sexe"
   ]
  },
  {
   "cell_type": "code",
   "execution_count": null,
   "metadata": {},
   "outputs": [],
   "source": [
    "A_tel=[]\n",
    "for tok in range(0,len(corp_lex_1tok)) :\n",
    "\n",
    "    nb=0\n",
    "    for corp in range(0,SC_Tel) :\n",
    "        if corp_lex_1tok.iloc[tok,8:12][corp]>0:\n",
    "            nb=nb+1\n",
    "    A_tel.append(nb)\n",
    "\n",
    "corp_lex_1tok[\"nb_in_corpTel\"]=A_tel"
   ]
  },
  {
   "cell_type": "code",
   "execution_count": null,
   "metadata": {
    "scrolled": false
   },
   "outputs": [],
   "source": [
    "corp_lex_1tok[\"IDF_Age\"]=0\n",
    "for tok in range(0,len(corp_lex_1tok)) :\n",
    "    corp_lex_1tok[\"IDF_Age\"][tok]=math.log(SC_Age / corp_lex_1tok[\"nb_in_corpAge\"][tok])"
   ]
  },
  {
   "cell_type": "code",
   "execution_count": null,
   "metadata": {},
   "outputs": [],
   "source": [
    "corp_lex_1tok[\"IDF_Sexe\"]=0\n",
    "for tok in range(0,len(corp_lex_1tok)) :\n",
    "    corp_lex_1tok[\"IDF_Sexe\"][tok]=math.log(SC_Sexe / corp_lex_1tok[\"nb_in_corpSexe\"][tok])"
   ]
  },
  {
   "cell_type": "code",
   "execution_count": null,
   "metadata": {},
   "outputs": [],
   "source": [
    "corp_lex_1tok[\"IDF_Tel\"]=0\n",
    "for tok in range(0,len(corp_lex_1tok)) :\n",
    "    corp_lex_1tok[\"IDF_Tel\"][tok]=math.log(SC_Tel / corp_lex_1tok[\"nb_in_corpTel\"][tok])"
   ]
  },
  {
   "cell_type": "markdown",
   "metadata": {},
   "source": [
    "### Calcul TF-IDF"
   ]
  },
  {
   "cell_type": "code",
   "execution_count": null,
   "metadata": {},
   "outputs": [],
   "source": [
    "corp_lex_1tok[\"TF_IDF_Femme\"]=corp_lex_1tok[\"TF_fem\"]*corp_lex_1tok[\"IDF_Sexe\"]\n",
    "corp_lex_1tok[\"TF_IDF_Homme\"]=corp_lex_1tok[\"TF_hom\"]*corp_lex_1tok[\"IDF_Sexe\"]\n",
    "corp_lex_1tok[\"TF_IDF_Age1\"]=corp_lex_1tok[\"TF_age1\"]*corp_lex_1tok[\"IDF_Age\"]\n",
    "corp_lex_1tok[\"TF_IDF_Age2\"]=corp_lex_1tok[\"TF_age2\"]*corp_lex_1tok[\"IDF_Age\"]\n",
    "corp_lex_1tok[\"TF_IDF_Age3\"]=corp_lex_1tok[\"TF_age3\"]*corp_lex_1tok[\"IDF_Age\"]\n",
    "corp_lex_1tok[\"TF_IDF_Age4\"]=corp_lex_1tok[\"TF_age4\"]*corp_lex_1tok[\"IDF_Age\"]\n",
    "corp_lex_1tok[\"TF_IDF_Age5\"]=corp_lex_1tok[\"TF_age5\"]*corp_lex_1tok[\"IDF_Age\"]\n",
    "corp_lex_1tok[\"TF_IDF_Age6\"]=corp_lex_1tok[\"TF_age6\"]*corp_lex_1tok[\"IDF_Age\"]\n",
    "corp_lex_1tok[\"TF_IDF_Tel1\"]=corp_lex_1tok[\"TF_tel1\"]*corp_lex_1tok[\"IDF_Tel\"]\n",
    "corp_lex_1tok[\"TF_IDF_Tel2\"]=corp_lex_1tok[\"TF_tel2\"]*corp_lex_1tok[\"IDF_Tel\"]\n",
    "corp_lex_1tok[\"TF_IDF_Tel3\"]=corp_lex_1tok[\"TF_tel3\"]*corp_lex_1tok[\"IDF_Tel\"]\n",
    "corp_lex_1tok[\"TF_IDF_Tel4\"]=corp_lex_1tok[\"TF_tel4\"]*corp_lex_1tok[\"IDF_Tel\"]"
   ]
  },
  {
   "cell_type": "code",
   "execution_count": null,
   "metadata": {},
   "outputs": [],
   "source": [
    "corp_lex_1tok.head()"
   ]
  },
  {
   "cell_type": "code",
   "execution_count": null,
   "metadata": {},
   "outputs": [],
   "source": []
  },
  {
   "cell_type": "markdown",
   "metadata": {},
   "source": [
    "### On peut maintenant afficher les mots les plus utilisés par une pop"
   ]
  },
  {
   "cell_type": "code",
   "execution_count": null,
   "metadata": {},
   "outputs": [],
   "source": [
    "corp_lex_1tok.sort_values(\"TF_age6\",ascending = False).head(10)"
   ]
  },
  {
   "cell_type": "code",
   "execution_count": null,
   "metadata": {},
   "outputs": [],
   "source": [
    "corp_lex_1tok.sort_values(\"TF_IDF_Age6\",ascending = False).head(10)"
   ]
  },
  {
   "cell_type": "code",
   "execution_count": null,
   "metadata": {},
   "outputs": [],
   "source": []
  },
  {
   "cell_type": "code",
   "execution_count": null,
   "metadata": {},
   "outputs": [],
   "source": []
  },
  {
   "cell_type": "markdown",
   "metadata": {},
   "source": [
    "### Traitement du sms d'entrée"
   ]
  },
  {
   "cell_type": "code",
   "execution_count": null,
   "metadata": {},
   "outputs": [],
   "source": [
    "sms=[\"Coucou toi j'espere que tu vas bien et que le confinement se passe bien ? Bisous\"]"
   ]
  },
  {
   "cell_type": "code",
   "execution_count": null,
   "metadata": {
    "scrolled": true
   },
   "outputs": [],
   "source": [
    "sms_word =  vect.transform(sms) # tokenisation du nouvel sms\n",
    "nb_sms_word = sms_word.sum(axis = 0) # On compte pour chaque mots son nombre utilisation\n",
    "df_sms = pd.DataFrame(nb_sms_word, columns=vect.get_feature_names()) \n",
    "df_sms=df_sms.T\n",
    "df_sms = df_sms.rename(columns={ df_sms.columns[0]: \"New\"}) \n",
    "tot=df_sms.sum(axis=0)\n",
    "df_sms[\"TF_new\"] = df_sms[\"New\"] / tot['New'] * 100\n",
    "#df_sms.sort_values(\"coeff_new\",ascending = False).head(10)"
   ]
  },
  {
   "cell_type": "code",
   "execution_count": null,
   "metadata": {},
   "outputs": [],
   "source": [
    "corp_lex_1tok['new_sms']=df_sms[\"TF_new\"]\n",
    "corp_lex_1tok.head()\n",
    "\n"
   ]
  },
  {
   "cell_type": "code",
   "execution_count": null,
   "metadata": {},
   "outputs": [],
   "source": [
    "corrF=scipy.stats.pearsonr(corp_lex_1tok['new_sms'], corp_lex_1tok['TF_IDF_Femme'])    # corr avec sms des femmes\n",
    "corrH=scipy.stats.pearsonr(corp_lex_1tok['new_sms'], corp_lex_1tok['TF_IDF_Homme'])    # corr avec sms des hommes\n",
    "\n",
    "max_sexe=max(corrF[0],corrH[0])\n",
    "if corrF[0]==max_sexe:\n",
    "    print(\"tu es une femme!\")\n",
    "else:\n",
    "  print(\"tu es un homme!\")\n"
   ]
  },
  {
   "cell_type": "code",
   "execution_count": null,
   "metadata": {},
   "outputs": [],
   "source": [
    "corr_age1=scipy.stats.pearsonr(corp_lex_1tok['new_sms'], corp_lex_1tok['TF_IDF_Age1'])    # corr avec sms age1\n",
    "corr_age2=scipy.stats.pearsonr(corp_lex_1tok['new_sms'], corp_lex_1tok['TF_IDF_Age2'])    # corr avec sms age2\n",
    "corr_age3=scipy.stats.pearsonr(corp_lex_1tok['new_sms'], corp_lex_1tok['TF_IDF_Age3'])    # corr avec sms age3\n",
    "corr_age4=scipy.stats.pearsonr(corp_lex_1tok['new_sms'], corp_lex_1tok['TF_IDF_Age4'])    # corr avec sms age4\n",
    "corr_age5=scipy.stats.pearsonr(corp_lex_1tok['new_sms'], corp_lex_1tok['TF_IDF_Age5'])    # corr avec sms age5\n",
    "corr_age6=scipy.stats.pearsonr(corp_lex_1tok['new_sms'], corp_lex_1tok['TF_IDF_Age6'])    # corr avec sms age6\n",
    "\n",
    "max_age=max(corr_age1[0],corr_age2[0],corr_age3[0],corr_age4[0],corr_age5[0],corr_age6[0])\n",
    "if corr_age1[0]==max_age:\n",
    "    print(\"tu as moins de 17 ans\")\n",
    "elif corr_age2[0]==max_age:\n",
    "  print(\"tu as 17 ou 18 ans\")\n",
    "elif corr_age3[0]==max_age:\n",
    "  print(\"tu as 19 ou 20 ans\")\n",
    "elif corr_age4[0]==max_age:\n",
    "  print(\"tu as 21 ou 22 ans\")\n",
    "elif corr_age5[0]==max_age:\n",
    "  print(\"tu as 23 ou 24 ans\")\n",
    "else:\n",
    "  print(\"tu es vieux :O ^^\")\n"
   ]
  },
  {
   "cell_type": "code",
   "execution_count": null,
   "metadata": {},
   "outputs": [],
   "source": [
    "corr_tel1=scipy.stats.pearsonr(corp_lex_1tok['new_sms'], corp_lex_1tok['TF_IDF_Tel1'])    # corr avec sms tel1\n",
    "corr_tel2=scipy.stats.pearsonr(corp_lex_1tok['new_sms'], corp_lex_1tok['TF_IDF_Tel2'])    # corr avec sms tel2\n",
    "corr_tel3=scipy.stats.pearsonr(corp_lex_1tok['new_sms'], corp_lex_1tok['TF_IDF_Tel3'])    # corr avec sms tel3\n",
    "corr_tel4=scipy.stats.pearsonr(corp_lex_1tok['new_sms'], corp_lex_1tok['TF_IDF_Tel4'])    # corr avec sms tel4\n",
    "\n",
    "max_tel=max(corr_tel1[0],corr_tel2[0],corr_tel3[0],corr_tel4[0])\n",
    "if corr_tel1[0]==max_tel:\n",
    "    print(\"tu as un Blackbery\")\n",
    "elif corr_tel2[0]==max_tel:\n",
    "  print(\"tu as un Iphone\")\n",
    "elif corr_tel3[0]==max_tel:\n",
    "  print(\"tu as un téléphone classique\")\n",
    "else:\n",
    "  print(\"tu as un téléphone de type 'autre' ^^\")"
   ]
  },
  {
   "cell_type": "code",
   "execution_count": null,
   "metadata": {},
   "outputs": [],
   "source": []
  },
  {
   "cell_type": "code",
   "execution_count": null,
   "metadata": {},
   "outputs": [],
   "source": [
    "\n"
   ]
  },
  {
   "cell_type": "code",
   "execution_count": null,
   "metadata": {},
   "outputs": [],
   "source": []
  },
  {
   "cell_type": "code",
   "execution_count": null,
   "metadata": {},
   "outputs": [],
   "source": []
  },
  {
   "cell_type": "code",
   "execution_count": null,
   "metadata": {},
   "outputs": [],
   "source": []
  }
 ],
 "metadata": {
  "file_extension": ".py",
  "kernelspec": {
   "display_name": "Python 3",
   "language": "python",
   "name": "python3"
  },
  "language_info": {
   "codemirror_mode": {
    "name": "ipython",
    "version": 3
   },
   "file_extension": ".py",
   "mimetype": "text/x-python",
   "name": "python",
   "nbconvert_exporter": "python",
   "pygments_lexer": "ipython3",
   "version": "3.7.4"
  },
  "mimetype": "text/x-python",
  "name": "python",
  "npconvert_exporter": "python",
  "pygments_lexer": "ipython3",
  "version": 3
 },
 "nbformat": 4,
 "nbformat_minor": 2
}
