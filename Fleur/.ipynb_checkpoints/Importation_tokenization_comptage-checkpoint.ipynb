{
 "cells": [
  {
   "cell_type": "code",
   "execution_count": 13,
   "metadata": {},
   "outputs": [],
   "source": [
    "import pandas as pd\n",
    "from nltk.corpus import stopwords \n",
    "from sklearn.feature_extraction.text import CountVectorizer\n",
    "from sklearn.model_selection import train_test_split\n",
    "from sklearn import metrics\n",
    "from sklearn.naive_bayes import MultinomialNB"
   ]
  },
  {
   "cell_type": "markdown",
   "metadata": {},
   "source": [
    "## Importation des données"
   ]
  },
  {
   "cell_type": "code",
   "execution_count": 14,
   "metadata": {},
   "outputs": [],
   "source": [
    "df2 = pd.read_csv(\"Questionnaires.csv\",sep=\";\")"
   ]
  },
  {
   "cell_type": "code",
   "execution_count": 15,
   "metadata": {},
   "outputs": [
    {
     "data": {
      "text/html": [
       "<div>\n",
       "<style scoped>\n",
       "    .dataframe tbody tr th:only-of-type {\n",
       "        vertical-align: middle;\n",
       "    }\n",
       "\n",
       "    .dataframe tbody tr th {\n",
       "        vertical-align: top;\n",
       "    }\n",
       "\n",
       "    .dataframe thead th {\n",
       "        text-align: right;\n",
       "    }\n",
       "</style>\n",
       "<table border=\"1\" class=\"dataframe\">\n",
       "  <thead>\n",
       "    <tr style=\"text-align: right;\">\n",
       "      <th></th>\n",
       "      <th>AGE</th>\n",
       "      <th>ID_NUM_TEL</th>\n",
       "      <th>SEXE</th>\n",
       "      <th>NIVEAU_SUPERIEUR_CHOIX</th>\n",
       "      <th>TYPE_TELEPHONE</th>\n",
       "      <th>ABONNEMENT_ILLIMITE</th>\n",
       "      <th>TEMPS_UTILISATION_SMS</th>\n",
       "      <th>ENVOI_SMS_SEMAINE</th>\n",
       "      <th>UTILISATION_T9</th>\n",
       "      <th>DESTINATAIRE_AMIS</th>\n",
       "      <th>DESTINATAIRE_COLLEGUES</th>\n",
       "      <th>DESTINATAIRE_FAMILLE</th>\n",
       "      <th>DESTINATAIRE_COMPAGNON</th>\n",
       "      <th>DUREE_LECTURE</th>\n",
       "    </tr>\n",
       "  </thead>\n",
       "  <tbody>\n",
       "    <tr>\n",
       "      <td>0</td>\n",
       "      <td>16</td>\n",
       "      <td>202</td>\n",
       "      <td>Femme</td>\n",
       "      <td>lycee</td>\n",
       "      <td>classique</td>\n",
       "      <td>non</td>\n",
       "      <td>1 a 3</td>\n",
       "      <td>moins de 5</td>\n",
       "      <td>non</td>\n",
       "      <td>5</td>\n",
       "      <td>3</td>\n",
       "      <td>4</td>\n",
       "      <td>0</td>\n",
       "      <td>4,19</td>\n",
       "    </tr>\n",
       "    <tr>\n",
       "      <td>1</td>\n",
       "      <td>11</td>\n",
       "      <td>401</td>\n",
       "      <td>Homme</td>\n",
       "      <td>college</td>\n",
       "      <td>autre</td>\n",
       "      <td>oui</td>\n",
       "      <td>moins de 1</td>\n",
       "      <td>20 a 50</td>\n",
       "      <td>non</td>\n",
       "      <td>6</td>\n",
       "      <td>0</td>\n",
       "      <td>1</td>\n",
       "      <td>0</td>\n",
       "      <td>5,24</td>\n",
       "    </tr>\n",
       "    <tr>\n",
       "      <td>2</td>\n",
       "      <td>15</td>\n",
       "      <td>290</td>\n",
       "      <td>Homme</td>\n",
       "      <td>college</td>\n",
       "      <td>blackberry</td>\n",
       "      <td>non</td>\n",
       "      <td>1 a 3</td>\n",
       "      <td>plus de 100</td>\n",
       "      <td>oui</td>\n",
       "      <td>6</td>\n",
       "      <td>0</td>\n",
       "      <td>6</td>\n",
       "      <td>6</td>\n",
       "      <td>3,14</td>\n",
       "    </tr>\n",
       "    <tr>\n",
       "      <td>3</td>\n",
       "      <td>12</td>\n",
       "      <td>271</td>\n",
       "      <td>Homme</td>\n",
       "      <td>college</td>\n",
       "      <td>blackberry</td>\n",
       "      <td>oui</td>\n",
       "      <td>1 a 3</td>\n",
       "      <td>plus de 100</td>\n",
       "      <td>non</td>\n",
       "      <td>5</td>\n",
       "      <td>0</td>\n",
       "      <td>2</td>\n",
       "      <td>6</td>\n",
       "      <td>1,05</td>\n",
       "    </tr>\n",
       "    <tr>\n",
       "      <td>4</td>\n",
       "      <td>14</td>\n",
       "      <td>75</td>\n",
       "      <td>Femme</td>\n",
       "      <td>college</td>\n",
       "      <td>blackberry</td>\n",
       "      <td>oui</td>\n",
       "      <td>plus de 5</td>\n",
       "      <td>plus de 100</td>\n",
       "      <td>non</td>\n",
       "      <td>6</td>\n",
       "      <td>0</td>\n",
       "      <td>2</td>\n",
       "      <td>0</td>\n",
       "      <td>6,29</td>\n",
       "    </tr>\n",
       "  </tbody>\n",
       "</table>\n",
       "</div>"
      ],
      "text/plain": [
       "   AGE  ID_NUM_TEL   SEXE NIVEAU_SUPERIEUR_CHOIX TYPE_TELEPHONE  \\\n",
       "0   16         202  Femme                  lycee      classique   \n",
       "1   11         401  Homme                college          autre   \n",
       "2   15         290  Homme                college     blackberry   \n",
       "3   12         271  Homme                college     blackberry   \n",
       "4   14          75  Femme                college     blackberry   \n",
       "\n",
       "  ABONNEMENT_ILLIMITE TEMPS_UTILISATION_SMS ENVOI_SMS_SEMAINE UTILISATION_T9  \\\n",
       "0                 non                 1 a 3        moins de 5            non   \n",
       "1                 oui            moins de 1           20 a 50            non   \n",
       "2                 non                 1 a 3       plus de 100            oui   \n",
       "3                 oui                 1 a 3       plus de 100            non   \n",
       "4                 oui             plus de 5       plus de 100            non   \n",
       "\n",
       "   DESTINATAIRE_AMIS  DESTINATAIRE_COLLEGUES  DESTINATAIRE_FAMILLE  \\\n",
       "0                  5                       3                     4   \n",
       "1                  6                       0                     1   \n",
       "2                  6                       0                     6   \n",
       "3                  5                       0                     2   \n",
       "4                  6                       0                     2   \n",
       "\n",
       "   DESTINATAIRE_COMPAGNON DUREE_LECTURE  \n",
       "0                       0          4,19  \n",
       "1                       0          5,24  \n",
       "2                       6          3,14  \n",
       "3                       6          1,05  \n",
       "4                       0          6,29  "
      ]
     },
     "execution_count": 15,
     "metadata": {},
     "output_type": "execute_result"
    }
   ],
   "source": [
    "df2.head()"
   ]
  },
  {
   "cell_type": "code",
   "execution_count": 42,
   "metadata": {},
   "outputs": [],
   "source": [
    "df = pd.read_csv(\"BDD_sms.csv\",sep=\";\") # on a un pb d'encodage pour certaines lettres --'\n",
    "df = df[df[\"SMS_ANON\"].notna()]"
   ]
  },
  {
   "cell_type": "code",
   "execution_count": 43,
   "metadata": {},
   "outputs": [
    {
     "data": {
      "text/html": [
       "<div>\n",
       "<style scoped>\n",
       "    .dataframe tbody tr th:only-of-type {\n",
       "        vertical-align: middle;\n",
       "    }\n",
       "\n",
       "    .dataframe tbody tr th {\n",
       "        vertical-align: top;\n",
       "    }\n",
       "\n",
       "    .dataframe thead th {\n",
       "        text-align: right;\n",
       "    }\n",
       "</style>\n",
       "<table border=\"1\" class=\"dataframe\">\n",
       "  <thead>\n",
       "    <tr style=\"text-align: right;\">\n",
       "      <th></th>\n",
       "      <th>NUM_SMS</th>\n",
       "      <th>ID_NUM_TEL</th>\n",
       "      <th>SMS_ANON</th>\n",
       "    </tr>\n",
       "  </thead>\n",
       "  <tbody>\n",
       "    <tr>\n",
       "      <td>0</td>\n",
       "      <td>1</td>\n",
       "      <td>477</td>\n",
       "      <td>Hey ca va?\\nAlors cette rentree?\\nVa falloir s...</td>\n",
       "    </tr>\n",
       "    <tr>\n",
       "      <td>1</td>\n",
       "      <td>2</td>\n",
       "      <td>477</td>\n",
       "      <td>Ok super merci! Oui j'y comprends rien du tout...</td>\n",
       "    </tr>\n",
       "    <tr>\n",
       "      <td>2</td>\n",
       "      <td>3</td>\n",
       "      <td>477</td>\n",
       "      <td>Coucou !\\nC'est quand la feria de Nimes?\\nJ'su...</td>\n",
       "    </tr>\n",
       "    <tr>\n",
       "      <td>3</td>\n",
       "      <td>4</td>\n",
       "      <td>477</td>\n",
       "      <td>Coucou :)\\nOui ca c'est bien passe!\\nAlors je ...</td>\n",
       "    </tr>\n",
       "    <tr>\n",
       "      <td>4</td>\n",
       "      <td>5</td>\n",
       "      <td>477</td>\n",
       "      <td>On peut se rejoindre quelque part? Tu as cours...</td>\n",
       "    </tr>\n",
       "  </tbody>\n",
       "</table>\n",
       "</div>"
      ],
      "text/plain": [
       "   NUM_SMS  ID_NUM_TEL                                           SMS_ANON\n",
       "0        1         477  Hey ca va?\\nAlors cette rentree?\\nVa falloir s...\n",
       "1        2         477  Ok super merci! Oui j'y comprends rien du tout...\n",
       "2        3         477  Coucou !\\nC'est quand la feria de Nimes?\\nJ'su...\n",
       "3        4         477  Coucou :)\\nOui ca c'est bien passe!\\nAlors je ...\n",
       "4        5         477  On peut se rejoindre quelque part? Tu as cours..."
      ]
     },
     "execution_count": 43,
     "metadata": {},
     "output_type": "execute_result"
    }
   ],
   "source": [
    "df.head()"
   ]
  },
  {
   "cell_type": "markdown",
   "metadata": {},
   "source": [
    "## Merge des sms avec les données utilisateurs"
   ]
  },
  {
   "cell_type": "code",
   "execution_count": 44,
   "metadata": {},
   "outputs": [],
   "source": [
    "df = df.merge(df2, how='left', on='ID_NUM_TEL') # On fusionne les deux dataframes par rapport à leur colonnes ID_NUM_TEL"
   ]
  },
  {
   "cell_type": "markdown",
   "metadata": {},
   "source": [
    "## Création des corpus AGE"
   ]
  },
  {
   "cell_type": "code",
   "execution_count": 45,
   "metadata": {
    "scrolled": true
   },
   "outputs": [
    {
     "data": {
      "image/png": "[encoded data removed]",
      "text/plain": [
       "<Figure size 432x288 with 1 Axes>"
      ]
     },
     "metadata": {
      "needs_background": "light"
     },
     "output_type": "display_data"
    }
   ],
   "source": [
    "from matplotlib import pyplot as plt\n",
    "age = df[\"AGE\"]\n",
    "plt.hist(age)\n",
    "plt.xlabel(\"Age\")\n",
    "plt.ylabel(\"Effectif\")\n",
    "plt.show()"
   ]
  },
  {
   "cell_type": "code",
   "execution_count": 46,
   "metadata": {},
   "outputs": [],
   "source": [
    "labels = [1,2,3,4,5] # Catégorie \n",
    "df[\"Agegroup\"]=pd.qcut(df['AGE'], q=5, labels=labels) # On crée une nouvelle colonnes avec les catégories"
   ]
  },
  {
   "cell_type": "code",
   "execution_count": 47,
   "metadata": {},
   "outputs": [
    {
     "data": {
      "image/png": "[encoded data removed]",
      "text/plain": [
       "<Figure size 432x432 with 1 Axes>"
      ]
     },
     "metadata": {},
     "output_type": "display_data"
    }
   ],
   "source": [
    "compte = df.groupby([\"Agegroup\"]).count() \n",
    "compte.plot.pie(y='ID_NUM_TEL', figsize=(6, 6)) \n",
    "plt.ylabel(\"\")\n",
    "plt.show()"
   ]
  },
  {
   "cell_type": "code",
   "execution_count": 48,
   "metadata": {},
   "outputs": [],
   "source": [
    "corpus_age = df[[\"SMS_ANON\",\"AGE\",\"Agegroup\"]] # Selection des bonnes colonnes \n",
    "corpus_age1=corpus_age.query('Agegroup==1')\n",
    "corpus_age2=corpus_age.query('Agegroup==2')\n",
    "corpus_age3=corpus_age.query('Agegroup==3')\n",
    "corpus_age4=corpus_age.query('Agegroup==4')\n",
    "corpus_age5=corpus_age.query('Agegroup==5')"
   ]
  },
  {
   "cell_type": "markdown",
   "metadata": {},
   "source": [
    "## Création des corpus SEXE"
   ]
  },
  {
   "cell_type": "code",
   "execution_count": 49,
   "metadata": {},
   "outputs": [],
   "source": [
    "corpus_sexe = df[[\"SMS_ANON\",\"SEXE\"]] # Selection des bonnes colonnes \n",
    "corpus_Femme=corpus_sexe.query(\"SEXE=='Femme'\")\n",
    "corpus_Homme=corpus_sexe.query(\"SEXE=='Homme'\")\n"
   ]
  },
  {
   "cell_type": "markdown",
   "metadata": {},
   "source": [
    "# Comptage des mots"
   ]
  },
  {
   "cell_type": "code",
   "execution_count": null,
   "metadata": {},
   "outputs": [],
   "source": []
  },
  {
   "cell_type": "markdown",
   "metadata": {},
   "source": [
    "### Listes des stop words en français"
   ]
  },
  {
   "cell_type": "code",
   "execution_count": 52,
   "metadata": {},
   "outputs": [],
   "source": [
    "stop_words = set(stopwords.words('French')) "
   ]
  },
  {
   "cell_type": "markdown",
   "metadata": {},
   "source": [
    "### Création d'un dataframe comptant les mots utilisés dans chaque corpus"
   ]
  },
  {
   "cell_type": "code",
   "execution_count": 53,
   "metadata": {},
   "outputs": [],
   "source": [
    "vect = CountVectorizer(stop_words=stop_words) \n"
   ]
  },
  {
   "cell_type": "code",
   "execution_count": 54,
   "metadata": {},
   "outputs": [
    {
     "data": {
      "text/plain": [
       "CountVectorizer(analyzer='word', binary=False, decode_error='strict',\n",
       "                dtype=<class 'numpy.int64'>, encoding='utf-8', input='content',\n",
       "                lowercase=True, max_df=1.0, max_features=None, min_df=1,\n",
       "                ngram_range=(1, 1), preprocessor=None,\n",
       "                stop_words={'ai', 'aie', 'aient', 'aies', 'ait', 'as', 'au',\n",
       "                            'aura', 'aurai', 'auraient', 'aurais', 'aurait',\n",
       "                            'auras', 'aurez', 'auriez', 'aurions', 'aurons',\n",
       "                            'auront', 'aux', 'avaient', 'avais', 'avait',\n",
       "                            'avec', 'avez', 'aviez', 'avions', 'avons', 'ayant',\n",
       "                            'ayante', 'ayantes', ...},\n",
       "                strip_accents=None, token_pattern='(?u)\\\\b\\\\w\\\\w+\\\\b',\n",
       "                tokenizer=None, vocabulary=None)"
      ]
     },
     "execution_count": 54,
     "metadata": {},
     "output_type": "execute_result"
    }
   ],
   "source": [
    "vect.fit(df[\"SMS_ANON\"]) # Création du bag of word\n"
   ]
  },
  {
   "cell_type": "code",
   "execution_count": 58,
   "metadata": {},
   "outputs": [],
   "source": [
    "F_word =  vect.transform(df[df[\"SEXE\"]=='Femme'][\"SMS_ANON\"]) # tokenisation des sms venant des femmes\n",
    "H_word =  vect.transform(df[df[\"SEXE\"]=='Homme'][\"SMS_ANON\"]) # tokenisation des sms venant des hommes\n",
    "age1_word =  vect.transform(df[df[\"Agegroup\"]==1][\"SMS_ANON\"]) # tokenisation des sms venant du groupe d'âge N°1"
   ]
  },
  {
   "cell_type": "code",
   "execution_count": 59,
   "metadata": {},
   "outputs": [],
   "source": [
    "nb_F_word = F_word.sum(axis = 0) # On compte pour chaque mots son nombre utilisation\n",
    "nb_H_word = H_word.sum(axis = 0) # On compte pour chaque mots son nombre utilisation\n",
    "nb_age1_word = age1_word.sum(axis = 0) # On compte pour chaque mots son nombre utilisation\n"
   ]
  },
  {
   "cell_type": "code",
   "execution_count": null,
   "metadata": {},
   "outputs": [],
   "source": [
    "df_global = pd.DataFrame(nb_word, columns=vect.get_feature_names()) # création d'un dataframe regroupant le comptage pour femme\n",
    "df_global = df_global.T # conversion des colonnes en lignes"
   ]
  },
  {
   "cell_type": "code",
   "execution_count": 74,
   "metadata": {},
   "outputs": [],
   "source": [
    "df_F = pd.DataFrame(nb_F_word, columns=vect.get_feature_names()) # création d'un dataframe regroupant le comptage pour femme\n",
    "df_H = pd.DataFrame(nb_H_word, columns=vect.get_feature_names()) # création d'un dataframe regroupant le comptage pour homme\n",
    "df_age1 = pd.DataFrame(nb_age1_word, columns=vect.get_feature_names()) # création d'un dataframe regroupant le comptage pour homme"
   ]
  },
  {
   "cell_type": "code",
   "execution_count": 75,
   "metadata": {},
   "outputs": [],
   "source": [
    "frames = [df_F,df_H,df_age1]\n",
    "total_word = pd.concat(frames) # fusion des deux dataframes\n",
    "total_word = total_word.reset_index(drop=True)\n",
    "total_word=total_word.T\n",
    "total_word = total_word.rename(columns={ total_word.columns[0]: \"Femme\",total_word.columns[1]: \"Homme\" ,total_word.columns[2]: \"Age1\" }) # renommage des colonnes"
   ]
  },
  {
   "cell_type": "code",
   "execution_count": 76,
   "metadata": {},
   "outputs": [
    {
     "data": {
      "text/html": [
       "<div>\n",
       "<style scoped>\n",
       "    .dataframe tbody tr th:only-of-type {\n",
       "        vertical-align: middle;\n",
       "    }\n",
       "\n",
       "    .dataframe tbody tr th {\n",
       "        vertical-align: top;\n",
       "    }\n",
       "\n",
       "    .dataframe thead th {\n",
       "        text-align: right;\n",
       "    }\n",
       "</style>\n",
       "<table border=\"1\" class=\"dataframe\">\n",
       "  <thead>\n",
       "    <tr style=\"text-align: right;\">\n",
       "      <th></th>\n",
       "      <th>Femme</th>\n",
       "      <th>Homme</th>\n",
       "      <th>Age1</th>\n",
       "    </tr>\n",
       "  </thead>\n",
       "  <tbody>\n",
       "    <tr>\n",
       "      <td>00</td>\n",
       "      <td>7</td>\n",
       "      <td>7</td>\n",
       "      <td>4</td>\n",
       "    </tr>\n",
       "    <tr>\n",
       "      <td>000</td>\n",
       "      <td>11</td>\n",
       "      <td>8</td>\n",
       "      <td>1</td>\n",
       "    </tr>\n",
       "    <tr>\n",
       "      <td>002</td>\n",
       "      <td>1</td>\n",
       "      <td>0</td>\n",
       "      <td>0</td>\n",
       "    </tr>\n",
       "    <tr>\n",
       "      <td>007</td>\n",
       "      <td>0</td>\n",
       "      <td>1</td>\n",
       "      <td>0</td>\n",
       "    </tr>\n",
       "    <tr>\n",
       "      <td>00h</td>\n",
       "      <td>6</td>\n",
       "      <td>0</td>\n",
       "      <td>0</td>\n",
       "    </tr>\n",
       "    <tr>\n",
       "      <td>00h00</td>\n",
       "      <td>2</td>\n",
       "      <td>3</td>\n",
       "      <td>3</td>\n",
       "    </tr>\n",
       "    <tr>\n",
       "      <td>00h15</td>\n",
       "      <td>1</td>\n",
       "      <td>0</td>\n",
       "      <td>0</td>\n",
       "    </tr>\n",
       "    <tr>\n",
       "      <td>00h20</td>\n",
       "      <td>1</td>\n",
       "      <td>0</td>\n",
       "      <td>0</td>\n",
       "    </tr>\n",
       "    <tr>\n",
       "      <td>00h26</td>\n",
       "      <td>1</td>\n",
       "      <td>0</td>\n",
       "      <td>0</td>\n",
       "    </tr>\n",
       "    <tr>\n",
       "      <td>00h30</td>\n",
       "      <td>1</td>\n",
       "      <td>0</td>\n",
       "      <td>0</td>\n",
       "    </tr>\n",
       "  </tbody>\n",
       "</table>\n",
       "</div>"
      ],
      "text/plain": [
       "       Femme  Homme  Age1\n",
       "00         7      7     4\n",
       "000       11      8     1\n",
       "002        1      0     0\n",
       "007        0      1     0\n",
       "00h        6      0     0\n",
       "00h00      2      3     3\n",
       "00h15      1      0     0\n",
       "00h20      1      0     0\n",
       "00h26      1      0     0\n",
       "00h30      1      0     0"
      ]
     },
     "execution_count": 76,
     "metadata": {},
     "output_type": "execute_result"
    }
   ],
   "source": [
    "total_word.head(10)"
   ]
  },
  {
   "cell_type": "code",
   "execution_count": null,
   "metadata": {},
   "outputs": [],
   "source": [
    "total_word.to_csv(\"comptage_par_corpus.csv\",index = False)\n"
   ]
  },
  {
   "cell_type": "markdown",
   "metadata": {},
   "source": []
  },
  {
   "cell_type": "code",
   "execution_count": null,
   "metadata": {},
   "outputs": [],
   "source": []
  },
  {
   "cell_type": "code",
   "execution_count": null,
   "metadata": {},
   "outputs": [],
   "source": []
  }
 ],
 "metadata": {
  "file_extension": ".py",
  "kernelspec": {
   "display_name": "Python 3",
   "language": "python",
   "name": "python3"
  },
  "language_info": {
   "codemirror_mode": {
    "name": "ipython",
    "version": 3
   },
   "file_extension": ".py",
   "mimetype": "text/x-python",
   "name": "python",
   "nbconvert_exporter": "python",
   "pygments_lexer": "ipython3",
   "version": "3.7.4"
  },
  "mimetype": "text/x-python",
  "name": "python",
  "npconvert_exporter": "python",
  "pygments_lexer": "ipython3",
  "version": 3
 },
 "nbformat": 4,
 "nbformat_minor": 2
}
