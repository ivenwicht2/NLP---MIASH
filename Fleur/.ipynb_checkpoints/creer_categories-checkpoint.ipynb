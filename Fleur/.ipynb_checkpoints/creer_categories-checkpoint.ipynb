{
 "cells": [
  {
   "cell_type": "code",
   "execution_count": 1,
   "metadata": {},
   "outputs": [],
   "source": [
    "import pandas as pd"
   ]
  },
  {
   "cell_type": "markdown",
   "metadata": {},
   "source": [
    "## Importation des données"
   ]
  },
  {
   "cell_type": "code",
   "execution_count": 2,
   "metadata": {},
   "outputs": [],
   "source": [
    "df = pd.read_csv(\"88milSMS_88522.csv\",sep=\",\",encoding = \"ISO-8859-1\")\n",
    "df2 = pd.read_csv(\"reponses_questionnaire.csv\",sep=\",\",encoding = \"ISO-8859-1\")"
   ]
  },
  {
   "cell_type": "markdown",
   "metadata": {},
   "source": [
    "## Merge des sms avec les données utilisateurs"
   ]
  },
  {
   "cell_type": "code",
   "execution_count": 3,
   "metadata": {},
   "outputs": [],
   "source": [
    "df2 = df2.drop_duplicates('ID_NUMERO_TEL', keep='last') # On garde les valeurs uniques\n",
    "df2 = df2.rename({'ID_NUMERO_TEL': 'ID_NUM_TEL'}, axis='columns') # On renome ID_NUMERO_TEL en ID_NUM_TEL\n",
    "df2 = df2[df2[\"ID_NUM_TEL\"].notna()] # On supprime les valueurs ID manquantes \n",
    "df = df.merge(df2, how='left', on='ID_NUM_TEL') # On fusionne les deux dataframes par rapport à leur colonnes ID_NUM_TEL"
   ]
  },
  {
   "cell_type": "markdown",
   "metadata": {},
   "source": [
    "## Création du corpus AGE"
   ]
  },
  {
   "cell_type": "code",
   "execution_count": 4,
   "metadata": {},
   "outputs": [],
   "source": [
    "corpus_age = df[[\"SMS_ANON\",\"AGE\"]] # Selection des bonnes colonnes \n",
    "bins= [0,10,20,30,50,80,110] # Interval d'ages \n",
    "labels = [0,1,2,3,4,5] # Catégorie \n",
    "corpus_age[\"Agegroup\"] = pd.cut(corpus_age['AGE'], bins=bins, labels=labels, right=False) # On crée une nouvelle colonnes avec les catégories"
   ]
  },
  {
   "cell_type": "markdown",
   "metadata": {},
   "source": [
    "## Création du corpus SEXE"
   ]
  },
  {
   "cell_type": "code",
   "execution_count": 5,
   "metadata": {},
   "outputs": [],
   "source": [
    "corpus_sexe = df[[\"SMS_ANON\",\"SEXE_MASC\"]] # Selection des bonnes colonnes \n",
    "corpus_sexe= corpus_sexe.rename({'SEXE_MASC': 'SEXE'}, axis='columns') # On renome SEXE_MASC en SEXE\n",
    "corpus_sexe[\"SEXE\"] = corpus_sexe[\"SEXE\"].fillna(0.0) # On remplace NaN par 0  ( 1 : male , 0 : femmelle )"
   ]
  },
  {
   "cell_type": "markdown",
   "metadata": {},
   "source": [
    "## Sauvegarde des dataframes en csv"
   ]
  },
  {
   "cell_type": "code",
   "execution_count": 6,
   "metadata": {},
   "outputs": [],
   "source": [
    "corpus_age.to_csv(\"corpus_age.csv\",index = False)\n",
    "corpus_sexe.to_csv(\"corpus_sexe.csv\",index = False)"
   ]
  }
 ],
 "metadata": {
  "file_extension": ".py",
  "kernelspec": {
   "display_name": "Python 3",
   "language": "python",
   "name": "python3"
  },
  "language_info": {
   "codemirror_mode": {
    "name": "ipython",
    "version": 3
   },
   "file_extension": ".py",
   "mimetype": "text/x-python",
   "name": "python",
   "nbconvert_exporter": "python",
   "pygments_lexer": "ipython3",
   "version": "3.7.4"
  },
  "mimetype": "text/x-python",
  "name": "python",
  "npconvert_exporter": "python",
  "pygments_lexer": "ipython3",
  "version": 3
 },
 "nbformat": 4,
 "nbformat_minor": 2
}
