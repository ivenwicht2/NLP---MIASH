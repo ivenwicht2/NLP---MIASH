{
 "cells": [
  {
   "cell_type": "code",
   "execution_count": 1,
   "metadata": {},
   "outputs": [],
   "source": [
    "import pandas as pd"
   ]
  },
  {
   "cell_type": "markdown",
   "metadata": {},
   "source": [
    "## Importation des données"
   ]
  },
  {
   "cell_type": "code",
   "execution_count": 2,
   "metadata": {},
   "outputs": [],
   "source": [
    "df2 = pd.read_csv(\"Questionnaires.csv\",sep=\";\")"
   ]
  },
  {
   "cell_type": "code",
   "execution_count": 3,
   "metadata": {},
   "outputs": [
    {
     "data": {
      "text/html": [
       "<div>\n",
       "<style scoped>\n",
       "    .dataframe tbody tr th:only-of-type {\n",
       "        vertical-align: middle;\n",
       "    }\n",
       "\n",
       "    .dataframe tbody tr th {\n",
       "        vertical-align: top;\n",
       "    }\n",
       "\n",
       "    .dataframe thead th {\n",
       "        text-align: right;\n",
       "    }\n",
       "</style>\n",
       "<table border=\"1\" class=\"dataframe\">\n",
       "  <thead>\n",
       "    <tr style=\"text-align: right;\">\n",
       "      <th></th>\n",
       "      <th>AGE</th>\n",
       "      <th>ID_NUM_TEL</th>\n",
       "      <th>SEXE</th>\n",
       "      <th>NIVEAU_SUPERIEUR_CHOIX</th>\n",
       "      <th>TYPE_TELEPHONE</th>\n",
       "      <th>ABONNEMENT_ILLIMITE</th>\n",
       "      <th>TEMPS_UTILISATION_SMS</th>\n",
       "      <th>ENVOI_SMS_SEMAINE</th>\n",
       "      <th>UTILISATION_T9</th>\n",
       "      <th>DESTINATAIRE_AMIS</th>\n",
       "      <th>DESTINATAIRE_COLLEGUES</th>\n",
       "      <th>DESTINATAIRE_FAMILLE</th>\n",
       "      <th>DESTINATAIRE_COMPAGNON</th>\n",
       "      <th>DUREE_LECTURE</th>\n",
       "    </tr>\n",
       "  </thead>\n",
       "  <tbody>\n",
       "    <tr>\n",
       "      <td>0</td>\n",
       "      <td>16</td>\n",
       "      <td>202</td>\n",
       "      <td>Femme</td>\n",
       "      <td>lycee</td>\n",
       "      <td>classique</td>\n",
       "      <td>non</td>\n",
       "      <td>1 a 3</td>\n",
       "      <td>moins de 5</td>\n",
       "      <td>non</td>\n",
       "      <td>5</td>\n",
       "      <td>3</td>\n",
       "      <td>4</td>\n",
       "      <td>0</td>\n",
       "      <td>4,19</td>\n",
       "    </tr>\n",
       "    <tr>\n",
       "      <td>1</td>\n",
       "      <td>11</td>\n",
       "      <td>401</td>\n",
       "      <td>Homme</td>\n",
       "      <td>college</td>\n",
       "      <td>autre</td>\n",
       "      <td>oui</td>\n",
       "      <td>moins de 1</td>\n",
       "      <td>20 a 50</td>\n",
       "      <td>non</td>\n",
       "      <td>6</td>\n",
       "      <td>0</td>\n",
       "      <td>1</td>\n",
       "      <td>0</td>\n",
       "      <td>5,24</td>\n",
       "    </tr>\n",
       "    <tr>\n",
       "      <td>2</td>\n",
       "      <td>15</td>\n",
       "      <td>290</td>\n",
       "      <td>Homme</td>\n",
       "      <td>college</td>\n",
       "      <td>blackberry</td>\n",
       "      <td>non</td>\n",
       "      <td>1 a 3</td>\n",
       "      <td>plus de 100</td>\n",
       "      <td>oui</td>\n",
       "      <td>6</td>\n",
       "      <td>0</td>\n",
       "      <td>6</td>\n",
       "      <td>6</td>\n",
       "      <td>3,14</td>\n",
       "    </tr>\n",
       "    <tr>\n",
       "      <td>3</td>\n",
       "      <td>12</td>\n",
       "      <td>271</td>\n",
       "      <td>Homme</td>\n",
       "      <td>college</td>\n",
       "      <td>blackberry</td>\n",
       "      <td>oui</td>\n",
       "      <td>1 a 3</td>\n",
       "      <td>plus de 100</td>\n",
       "      <td>non</td>\n",
       "      <td>5</td>\n",
       "      <td>0</td>\n",
       "      <td>2</td>\n",
       "      <td>6</td>\n",
       "      <td>1,05</td>\n",
       "    </tr>\n",
       "    <tr>\n",
       "      <td>4</td>\n",
       "      <td>14</td>\n",
       "      <td>75</td>\n",
       "      <td>Femme</td>\n",
       "      <td>college</td>\n",
       "      <td>blackberry</td>\n",
       "      <td>oui</td>\n",
       "      <td>plus de 5</td>\n",
       "      <td>plus de 100</td>\n",
       "      <td>non</td>\n",
       "      <td>6</td>\n",
       "      <td>0</td>\n",
       "      <td>2</td>\n",
       "      <td>0</td>\n",
       "      <td>6,29</td>\n",
       "    </tr>\n",
       "  </tbody>\n",
       "</table>\n",
       "</div>"
      ],
      "text/plain": [
       "   AGE  ID_NUM_TEL   SEXE NIVEAU_SUPERIEUR_CHOIX TYPE_TELEPHONE  \\\n",
       "0   16         202  Femme                  lycee      classique   \n",
       "1   11         401  Homme                college          autre   \n",
       "2   15         290  Homme                college     blackberry   \n",
       "3   12         271  Homme                college     blackberry   \n",
       "4   14          75  Femme                college     blackberry   \n",
       "\n",
       "  ABONNEMENT_ILLIMITE TEMPS_UTILISATION_SMS ENVOI_SMS_SEMAINE UTILISATION_T9  \\\n",
       "0                 non                 1 a 3        moins de 5            non   \n",
       "1                 oui            moins de 1           20 a 50            non   \n",
       "2                 non                 1 a 3       plus de 100            oui   \n",
       "3                 oui                 1 a 3       plus de 100            non   \n",
       "4                 oui             plus de 5       plus de 100            non   \n",
       "\n",
       "   DESTINATAIRE_AMIS  DESTINATAIRE_COLLEGUES  DESTINATAIRE_FAMILLE  \\\n",
       "0                  5                       3                     4   \n",
       "1                  6                       0                     1   \n",
       "2                  6                       0                     6   \n",
       "3                  5                       0                     2   \n",
       "4                  6                       0                     2   \n",
       "\n",
       "   DESTINATAIRE_COMPAGNON DUREE_LECTURE  \n",
       "0                       0          4,19  \n",
       "1                       0          5,24  \n",
       "2                       6          3,14  \n",
       "3                       6          1,05  \n",
       "4                       0          6,29  "
      ]
     },
     "execution_count": 3,
     "metadata": {},
     "output_type": "execute_result"
    }
   ],
   "source": [
    "df2.head()"
   ]
  },
  {
   "cell_type": "code",
   "execution_count": 4,
   "metadata": {},
   "outputs": [],
   "source": [
    "df = pd.read_csv(\"BDD_sms.csv\",sep=\";\",encoding = \"ISO-8859-1\")"
   ]
  },
  {
   "cell_type": "code",
   "execution_count": 5,
   "metadata": {},
   "outputs": [
    {
     "data": {
      "text/html": [
       "<div>\n",
       "<style scoped>\n",
       "    .dataframe tbody tr th:only-of-type {\n",
       "        vertical-align: middle;\n",
       "    }\n",
       "\n",
       "    .dataframe tbody tr th {\n",
       "        vertical-align: top;\n",
       "    }\n",
       "\n",
       "    .dataframe thead th {\n",
       "        text-align: right;\n",
       "    }\n",
       "</style>\n",
       "<table border=\"1\" class=\"dataframe\">\n",
       "  <thead>\n",
       "    <tr style=\"text-align: right;\">\n",
       "      <th></th>\n",
       "      <th>NUM_SMS</th>\n",
       "      <th>ID_NUM_TEL</th>\n",
       "      <th>SMS_ANON</th>\n",
       "    </tr>\n",
       "  </thead>\n",
       "  <tbody>\n",
       "    <tr>\n",
       "      <td>0</td>\n",
       "      <td>1</td>\n",
       "      <td>477</td>\n",
       "      <td>Hey ca va?\\nAlors cette rentree?\\nVa falloir s...</td>\n",
       "    </tr>\n",
       "    <tr>\n",
       "      <td>1</td>\n",
       "      <td>2</td>\n",
       "      <td>477</td>\n",
       "      <td>Ok super merci! Oui j'y comprends rien du tout...</td>\n",
       "    </tr>\n",
       "    <tr>\n",
       "      <td>2</td>\n",
       "      <td>3</td>\n",
       "      <td>477</td>\n",
       "      <td>Coucou !\\nC'est quand la feria de Nimes?\\nJ'su...</td>\n",
       "    </tr>\n",
       "    <tr>\n",
       "      <td>3</td>\n",
       "      <td>4</td>\n",
       "      <td>477</td>\n",
       "      <td>Coucou :)\\nOui ca c'est bien passe!\\nAlors je ...</td>\n",
       "    </tr>\n",
       "    <tr>\n",
       "      <td>4</td>\n",
       "      <td>5</td>\n",
       "      <td>477</td>\n",
       "      <td>On peut se rejoindre quelque part? Tu as cours...</td>\n",
       "    </tr>\n",
       "  </tbody>\n",
       "</table>\n",
       "</div>"
      ],
      "text/plain": [
       "   NUM_SMS  ID_NUM_TEL                                           SMS_ANON\n",
       "0        1         477  Hey ca va?\\nAlors cette rentree?\\nVa falloir s...\n",
       "1        2         477  Ok super merci! Oui j'y comprends rien du tout...\n",
       "2        3         477  Coucou !\\nC'est quand la feria de Nimes?\\nJ'su...\n",
       "3        4         477  Coucou :)\\nOui ca c'est bien passe!\\nAlors je ...\n",
       "4        5         477  On peut se rejoindre quelque part? Tu as cours..."
      ]
     },
     "execution_count": 5,
     "metadata": {},
     "output_type": "execute_result"
    }
   ],
   "source": [
    "df.head()"
   ]
  },
  {
   "cell_type": "markdown",
   "metadata": {},
   "source": [
    "## Merge des sms avec les données utilisateurs"
   ]
  },
  {
   "cell_type": "code",
   "execution_count": 6,
   "metadata": {},
   "outputs": [],
   "source": [
    "df = df.merge(df2, how='left', on='ID_NUM_TEL') # On fusionne les deux dataframes par rapport à leur colonnes ID_NUM_TEL"
   ]
  },
  {
   "cell_type": "markdown",
   "metadata": {},
   "source": [
    "## Création des corpus AGE"
   ]
  },
  {
   "cell_type": "code",
   "execution_count": 7,
   "metadata": {
    "scrolled": true
   },
   "outputs": [
    {
     "data": {
      "text/plain": [
       "<Figure size 640x480 with 1 Axes>"
      ]
     },
     "metadata": {},
     "output_type": "display_data"
    }
   ],
   "source": [
    "from matplotlib import pyplot as plt\n",
    "age = df[\"AGE\"]\n",
    "plt.hist(age)\n",
    "plt.xlabel(\"Age\")\n",
    "plt.ylabel(\"Effectif\")\n",
    "plt.show()"
   ]
  },
  {
   "cell_type": "code",
   "execution_count": 8,
   "metadata": {},
   "outputs": [],
   "source": [
    "labels = [1,2,3,4,5] # Catégorie \n",
    "df[\"Agegroup\"]=pd.qcut(df['AGE'], q=5, labels=labels) # On crée une nouvelle colonnes avec les catégories"
   ]
  },
  {
   "cell_type": "code",
   "execution_count": 9,
   "metadata": {},
   "outputs": [
    {
     "data": {
      "image/png": "[encoded data removed]",
      "text/plain": [
       "<Figure size 432x432 with 1 Axes>"
      ]
     },
     "metadata": {},
     "output_type": "display_data"
    }
   ],
   "source": [
    "compte = df.groupby([\"Agegroup\"]).count() \n",
    "compte.plot.pie(y='ID_NUM_TEL', figsize=(6, 6)) \n",
    "plt.ylabel(\"\")\n",
    "plt.show()"
   ]
  },
  {
   "cell_type": "code",
   "execution_count": 10,
   "metadata": {},
   "outputs": [],
   "source": [
    "corpus_age = df[[\"SMS_ANON\",\"AGE\",\"Agegroup\"]] # Selection des bonnes colonnes \n",
    "corpus_age1=corpus_age.query('Agegroup==1')\n",
    "corpus_age2=corpus_age.query('Agegroup==2')\n",
    "corpus_age3=corpus_age.query('Agegroup==3')\n",
    "corpus_age4=corpus_age.query('Agegroup==4')\n",
    "corpus_age5=corpus_age.query('Agegroup==5')"
   ]
  },
  {
   "cell_type": "markdown",
   "metadata": {},
   "source": [
    "## Création du corpus SEXE"
   ]
  },
  {
   "cell_type": "code",
   "execution_count": 11,
   "metadata": {},
   "outputs": [],
   "source": [
    "corpus_sexe = df[[\"SMS_ANON\",\"SEXE\"]] # Selection des bonnes colonnes \n",
    "corpus_Femme=corpus_sexe.query(\"SEXE=='Femme'\")\n",
    "corpus_Homme=corpus_sexe.query(\"SEXE=='Homme'\")\n"
   ]
  },
  {
   "cell_type": "code",
   "execution_count": null,
   "metadata": {},
   "outputs": [],
   "source": []
  },
  {
   "cell_type": "markdown",
   "metadata": {},
   "source": [
    "## Sauvegarde des dataframes en csv"
   ]
  },
  {
   "cell_type": "code",
   "execution_count": 12,
   "metadata": {},
   "outputs": [],
   "source": [
    "corpus_age1.to_csv(\"corpus_age1.csv\",index = False)\n",
    "corpus_Femme.to_csv(\"corpus_Femme.csv\",index = False)"
   ]
  },
  {
   "cell_type": "code",
   "execution_count": null,
   "metadata": {},
   "outputs": [],
   "source": []
  }
 ],
 "metadata": {
  "file_extension": ".py",
  "kernelspec": {
   "display_name": "Python 3",
   "language": "python",
   "name": "python3"
  },
  "language_info": {
   "codemirror_mode": {
    "name": "ipython",
    "version": 3
   },
   "file_extension": ".py",
   "mimetype": "text/x-python",
   "name": "python",
   "nbconvert_exporter": "python",
   "pygments_lexer": "ipython3",
   "version": "3.7.4"
  },
  "mimetype": "text/x-python",
  "name": "python",
  "npconvert_exporter": "python",
  "pygments_lexer": "ipython3",
  "version": 3
 },
 "nbformat": 4,
 "nbformat_minor": 2
}
