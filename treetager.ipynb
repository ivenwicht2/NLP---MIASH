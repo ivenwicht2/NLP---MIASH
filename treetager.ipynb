{
 "nbformat": 4,
 "nbformat_minor": 2,
 "metadata": {
  "language_info": {
   "name": "python",
   "codemirror_mode": {
    "name": "ipython",
    "version": 3
   },
   "version": "3.6.7-final"
  },
  "orig_nbformat": 2,
  "file_extension": ".py",
  "mimetype": "text/x-python",
  "name": "python",
  "npconvert_exporter": "python",
  "pygments_lexer": "ipython3",
  "version": 3,
  "kernelspec": {
   "name": "python36764bit94d7c962b8294686a64eb4fa459584b0",
   "display_name": "Python 3.6.7 64-bit"
  }
 },
 "cells": [
  {
   "cell_type": "code",
   "execution_count": 7,
   "metadata": {},
   "outputs": [],
   "source": [
    "#pip install -e git+https://github.com/chozelinek/mytreetaggerwrapper#egg=mytreetaggerwrapper"
   ]
  },
  {
   "cell_type": "code",
   "execution_count": 8,
   "metadata": {},
   "outputs": [],
   "source": [
    "import treetaggerwrapper\n",
    "import pandas as pd"
   ]
  },
  {
   "cell_type": "code",
   "execution_count": 9,
   "metadata": {},
   "outputs": [],
   "source": [
    "tagger = treetaggerwrapper.TreeTagger(TAGLANG='fr',TAGDIR='TreeTagger')"
   ]
  },
  {
   "cell_type": "code",
   "execution_count": 10,
   "metadata": {},
   "outputs": [],
   "source": [
    "df = pd.read_csv(\"csv/corpus_sexe.csv\",sep=\",\")\n",
    "df = df[df[\"SEXE\"].notna() & df[\"SMS_ANON\"].notna()]"
   ]
  },
  {
   "cell_type": "code",
   "execution_count": 11,
   "metadata": {},
   "outputs": [],
   "source": [
    "def unique(list1): \n",
    "  \n",
    "    # intilize a null list \n",
    "    unique_list = [] \n",
    "      \n",
    "    # traverse for all elements \n",
    "    for x in list1: \n",
    "        # check if exists in unique_list or not \n",
    "        if x not in unique_list: \n",
    "            unique_list.append(x) \n",
    "    # print list \n",
    "    return unique_list\n",
    "      "
   ]
  },
  {
   "cell_type": "code",
   "execution_count": 15,
   "metadata": {},
   "outputs": [],
   "source": [
    "text = df[\"SMS_ANON\"].str.cat(sep=' ')\n",
    "tmp = tagger.tag_text(text)\n",
    "tag = treetaggerwrapper.make_tags(tmp)\n",
    "utag = unique(tag)"
   ]
  },
  {
   "cell_type": "code",
   "execution_count": 29,
   "metadata": {},
   "outputs": [
    {
     "output_type": "execute_result",
     "data": {
      "text/plain": "Tag(word='Hey', pos='NAM', lemma='Hey')"
     },
     "metadata": {},
     "execution_count": 29
    }
   ],
   "source": [
    "utag[0]"
   ]
  },
  {
   "cell_type": "code",
   "execution_count": 35,
   "metadata": {
    "tags": [
     "outputPrepend",
     "outputPrepend",
     "outputPrepend",
     "outputPrepend",
     "outputPrepend",
     "outputPrepend",
     "outputPrepend",
     "outputPrepend",
     "outputPrepend",
     "outputPrepend",
     "outputPrepend",
     "outputPrepend",
     "outputPrepend",
     "outputPrepend",
     "outputPrepend",
     "outputPrepend",
     "outputPrepend",
     "outputPrepend",
     "outputPrepend",
     "outputPrepend",
     "outputPrepend",
     "outputPrepend",
     "outputPrepend"
    ]
   },
   "outputs": [
    {
     "output_type": "stream",
     "name": "stdout",
     "text": "1178\n"
    }
   ],
   "source": [
    "dic = {}\n",
    "error = 0\n",
    "for el in utag : \n",
    "    try :\n",
    "        dic[el.word] = el.pos\n",
    "    except :\n",
    "        error +=1\n",
    "print(error)"
   ]
  },
  {
   "cell_type": "code",
   "execution_count": 38,
   "metadata": {},
   "outputs": [],
   "source": [
    "treeT = pd.DataFrame(dic,index=[0])\n",
    "treeT = treeT.T"
   ]
  },
  {
   "cell_type": "code",
   "execution_count": 39,
   "metadata": {},
   "outputs": [
    {
     "output_type": "execute_result",
     "data": {
      "text/plain": "                  0\nHey             ADJ\nca         VER:ppre\nva         VER:pres\n?              SENT\nAlors           KON\n...             ...\natterit    VER:pres\nferraille       NOM\nReveil          NAM\ndercire         NOM\nrizotto         NOM\n\n[53505 rows x 1 columns]",
      "text/html": "<div>\n<style scoped>\n    .dataframe tbody tr th:only-of-type {\n        vertical-align: middle;\n    }\n\n    .dataframe tbody tr th {\n        vertical-align: top;\n    }\n\n    .dataframe thead th {\n        text-align: right;\n    }\n</style>\n<table border=\"1\" class=\"dataframe\">\n  <thead>\n    <tr style=\"text-align: right;\">\n      <th></th>\n      <th>0</th>\n    </tr>\n  </thead>\n  <tbody>\n    <tr>\n      <th>Hey</th>\n      <td>ADJ</td>\n    </tr>\n    <tr>\n      <th>ca</th>\n      <td>VER:ppre</td>\n    </tr>\n    <tr>\n      <th>va</th>\n      <td>VER:pres</td>\n    </tr>\n    <tr>\n      <th>?</th>\n      <td>SENT</td>\n    </tr>\n    <tr>\n      <th>Alors</th>\n      <td>KON</td>\n    </tr>\n    <tr>\n      <th>...</th>\n      <td>...</td>\n    </tr>\n    <tr>\n      <th>atterit</th>\n      <td>VER:pres</td>\n    </tr>\n    <tr>\n      <th>ferraille</th>\n      <td>NOM</td>\n    </tr>\n    <tr>\n      <th>Reveil</th>\n      <td>NAM</td>\n    </tr>\n    <tr>\n      <th>dercire</th>\n      <td>NOM</td>\n    </tr>\n    <tr>\n      <th>rizotto</th>\n      <td>NOM</td>\n    </tr>\n  </tbody>\n</table>\n<p>53505 rows × 1 columns</p>\n</div>"
     },
     "metadata": {},
     "execution_count": 39
    }
   ],
   "source": [
    "treeT"
   ]
  },
  {
   "cell_type": "code",
   "execution_count": 47,
   "metadata": {},
   "outputs": [
    {
     "output_type": "execute_result",
     "data": {
      "text/plain": "array(['ADJ', 'VER:ppre', 'VER:pres', 'SENT', 'KON', 'PRO:DEM',\n       'VER:futu', 'VER:infi', 'PRO:PER', 'NOM', 'PUN', 'ADV', 'VER:pper',\n       'PRP', 'INT', 'ABR', 'PRP:det', 'VER:subi', 'VER:subp', 'NAM',\n       'DET:POS', 'DET:ART', 'VER:cond', 'PRO:IND', 'PRO:POS', 'PRO:REL',\n       'VER:impf', 'VER:simp', 'PRO', 'NUM', 'SYM', 'VER:impe', 'PUN:cit'],\n      dtype=object)"
     },
     "metadata": {},
     "execution_count": 47
    }
   ],
   "source": [
    "treeT[0].unique()"
   ]
  },
  {
   "cell_type": "code",
   "execution_count": null,
   "metadata": {},
   "outputs": [],
   "source": []
  }
 ]
}